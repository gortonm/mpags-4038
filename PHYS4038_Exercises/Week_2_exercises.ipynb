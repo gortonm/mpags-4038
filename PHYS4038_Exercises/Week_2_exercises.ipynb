{
 "cells": [
  {
   "cell_type": "code",
   "execution_count": 30,
   "metadata": {},
   "outputs": [
    {
     "data": {
      "text/plain": [
       "[True, True, True, True, True]"
      ]
     },
     "execution_count": 30,
     "metadata": {},
     "output_type": "execute_result"
    }
   ],
   "source": [
    "import math\n",
    "\n",
    "# Question 1\n",
    "\n",
    "# Introduce a tolerance\n",
    "eps = 1e-6\n",
    "\n",
    "numbers_list = (0.0, 2.0, 4.0, 6.0, 8.0)\n",
    "booleans_list = [\n",
    "    True for i in numbers_list if abs(math.cosh(i) ** 2 - math.sinh(i) ** 2 - 1) < eps\n",
    "]\n",
    "booleans_list"
   ]
  },
  {
   "cell_type": "code",
   "execution_count": 9,
   "metadata": {},
   "outputs": [
    {
     "name": "stdout",
     "output_type": "stream",
     "text": [
      "[0, 3]\n",
      "[]\n",
      "Help on function f in module __main__:\n",
      "\n",
      "f(x, n)\n",
      "    Test which elements of x are divisible by n.\n",
      "    \n",
      "    For example:\n",
      "    >>> f([5,7,11,15], 5)\n",
      "    [0, 3]\n",
      "    \n",
      "        Returns index of elements of x divisble by n\n",
      "\n"
     ]
    }
   ],
   "source": [
    "# Question 2\n",
    "\n",
    "\n",
    "def f(x, n):\n",
    "    \"\"\"Test which elements of x are divisible by n.\n",
    "\n",
    "    For example:\n",
    "    >>> f([5,7,11,15], 5)\n",
    "    [0, 3]\n",
    "\n",
    "        Returns index of elements of x divisble by n\n",
    "    \"\"\"\n",
    "    indices = []\n",
    "    eps = 1e-6\n",
    "    for i in range(len(x)):\n",
    "        if abs(x[i] % n) < eps:\n",
    "            indices.append(i)\n",
    "    return indices\n",
    "\n",
    "\n",
    "# NOTE: enumerate gives the number and its index, so could write\n",
    "# for i, m in enumerate(x):\n",
    "#   if m%n < eps:\n",
    "#       indices.append(i)\n",
    "\n",
    "# Check function works\n",
    "numbers = [5, 7, 11, 15]\n",
    "print(f(numbers, 5))\n",
    "print(f(numbers, 9.25))\n",
    "\n",
    "\"\"\"These comments are documentation\"\"\"\n",
    "\n",
    "help(f)\n"
   ]
  },
  {
   "cell_type": "code",
   "execution_count": 23,
   "metadata": {},
   "outputs": [
    {
     "name": "stdout",
     "output_type": "stream",
     "text": [
      "5\n",
      "<class 'float'>\n",
      "0.0\n",
      "7\n",
      "<class 'float'>\n",
      "2.0\n",
      "11\n",
      "<class 'float'>\n",
      "1.0\n",
      "15\n",
      "<class 'float'>\n",
      "0.0\n",
      "[1, 4]\n"
     ]
    }
   ],
   "source": [
    "# Question 3\n",
    "\n",
    "\n",
    "def f(filename, n):\n",
    "    \"\"\"Test which elements in a file with name filename are divisible by n.\n",
    "\n",
    "    Returns entries in a file that are divisble by n\n",
    "    \"\"\"\n",
    "    # line number\n",
    "    i = 1\n",
    "\n",
    "    indices = []\n",
    "    eps = 1e-6\n",
    "\n",
    "    with open(filename, \"r\") as file:\n",
    "        for l in file:\n",
    "\n",
    "            # print(l.split()[0])\n",
    "            # print(type(float(l.split()[0])))\n",
    "            # print(abs( float( l.split()[0] ) % n ))\n",
    "\n",
    "            if abs(float(l.split()[0]) % n) < eps:\n",
    "                indices.append(i)\n",
    "            i += 1\n",
    "    return indices\n",
    "\n",
    "\n",
    "# Check function works\n",
    "print(f(\"numbers.txt\", 5))\n"
   ]
  },
  {
   "cell_type": "code",
   "execution_count": 4,
   "metadata": {
    "scrolled": true
   },
   "outputs": [
    {
     "ename": "TypeError",
     "evalue": "not all arguments converted during string formatting",
     "output_type": "error",
     "traceback": [
      "\u001b[1;31m---------------------------------------------------------------------------\u001b[0m",
      "\u001b[1;31mTypeError\u001b[0m                                 Traceback (most recent call last)",
      "\u001b[1;32m<ipython-input-4-40f9e5e45cc3>\u001b[0m in \u001b[0;36m<module>\u001b[1;34m\u001b[0m\n\u001b[0;32m     31\u001b[0m \u001b[0minstance\u001b[0m \u001b[1;33m=\u001b[0m \u001b[0mFindDivisible\u001b[0m\u001b[1;33m(\u001b[0m\u001b[1;34m'numbers.txt'\u001b[0m\u001b[1;33m)\u001b[0m\u001b[1;33m\u001b[0m\u001b[1;33m\u001b[0m\u001b[0m\n\u001b[0;32m     32\u001b[0m \u001b[0mnumbers\u001b[0m \u001b[1;33m=\u001b[0m \u001b[1;33m[\u001b[0m\u001b[1;36m5\u001b[0m\u001b[1;33m,\u001b[0m \u001b[1;36m7\u001b[0m\u001b[1;33m,\u001b[0m \u001b[1;36m11\u001b[0m\u001b[1;33m,\u001b[0m \u001b[1;36m15\u001b[0m\u001b[1;33m]\u001b[0m\u001b[1;33m\u001b[0m\u001b[1;33m\u001b[0m\u001b[0m\n\u001b[1;32m---> 33\u001b[1;33m \u001b[0mprint\u001b[0m\u001b[1;33m(\u001b[0m\u001b[0minstance\u001b[0m\u001b[1;33m.\u001b[0m\u001b[0mf\u001b[0m\u001b[1;33m(\u001b[0m\u001b[1;36m5\u001b[0m\u001b[1;33m)\u001b[0m\u001b[1;33m)\u001b[0m\u001b[1;33m\u001b[0m\u001b[1;33m\u001b[0m\u001b[0m\n\u001b[0m\u001b[0;32m     34\u001b[0m \u001b[0mprint\u001b[0m\u001b[1;33m(\u001b[0m\u001b[0minstance\u001b[0m\u001b[1;33m.\u001b[0m\u001b[0mf\u001b[0m\u001b[1;33m(\u001b[0m\u001b[1;36m9.25\u001b[0m\u001b[1;33m)\u001b[0m\u001b[1;33m)\u001b[0m\u001b[1;33m\u001b[0m\u001b[1;33m\u001b[0m\u001b[0m\n\u001b[0;32m     35\u001b[0m \u001b[1;33m\u001b[0m\u001b[0m\n",
      "\u001b[1;32m<ipython-input-4-40f9e5e45cc3>\u001b[0m in \u001b[0;36mf\u001b[1;34m(self, n)\u001b[0m\n\u001b[0;32m     23\u001b[0m         \"\"\"\n\u001b[0;32m     24\u001b[0m         \u001b[1;32mfor\u001b[0m \u001b[0mi\u001b[0m\u001b[1;33m,\u001b[0m \u001b[0mm\u001b[0m \u001b[1;32min\u001b[0m \u001b[0menumerate\u001b[0m\u001b[1;33m(\u001b[0m\u001b[0mself\u001b[0m\u001b[1;33m.\u001b[0m\u001b[0mfile\u001b[0m\u001b[1;33m)\u001b[0m\u001b[1;33m:\u001b[0m\u001b[1;33m\u001b[0m\u001b[1;33m\u001b[0m\u001b[0m\n\u001b[1;32m---> 25\u001b[1;33m             \u001b[1;32mif\u001b[0m \u001b[0mabs\u001b[0m\u001b[1;33m(\u001b[0m\u001b[0mm\u001b[0m \u001b[1;33m%\u001b[0m \u001b[0mn\u001b[0m\u001b[1;33m)\u001b[0m \u001b[1;33m<\u001b[0m \u001b[0meps\u001b[0m\u001b[1;33m:\u001b[0m\u001b[1;33m\u001b[0m\u001b[1;33m\u001b[0m\u001b[0m\n\u001b[0m\u001b[0;32m     26\u001b[0m                 \u001b[0mindices\u001b[0m\u001b[1;33m.\u001b[0m\u001b[0mappend\u001b[0m\u001b[1;33m(\u001b[0m\u001b[0mi\u001b[0m\u001b[1;33m)\u001b[0m\u001b[1;33m\u001b[0m\u001b[1;33m\u001b[0m\u001b[0m\n\u001b[0;32m     27\u001b[0m         \u001b[1;32mreturn\u001b[0m \u001b[0mindices\u001b[0m\u001b[1;33m\u001b[0m\u001b[1;33m\u001b[0m\u001b[0m\n",
      "\u001b[1;31mTypeError\u001b[0m: not all arguments converted during string formatting"
     ]
    }
   ],
   "source": [
    "# Question 4\n",
    "\n",
    "\n",
    "class FindDivisible():\n",
    "    def __init__(self, file):\n",
    "        self.file = file\n",
    "\n",
    "    def f(self, n):\n",
    "        \"\"\"Test which elements of x are divisible by n.\n",
    "\n",
    "        For example:\n",
    "        >>> f([5,7,11,15], 5)\n",
    "        [0, 3]\n",
    "\n",
    "            Returns index of elements of x divisble by n\n",
    "        \"\"\"\n",
    "        indices = []\n",
    "        eps = 1e-6\n",
    "        \"\"\"\n",
    "        for i in range(len(self.list)):\n",
    "            if abs(self.list[i] % n) < eps:\n",
    "                indices.append(i)\n",
    "        \"\"\"\n",
    "        for i, m in enumerate(self.file):\n",
    "            if abs(m % n) < eps:\n",
    "                indices.append(i)\n",
    "        return indices\n",
    "\n",
    "\n",
    "# Check function works\n",
    "instance = FindDivisible('numbers.txt')\n",
    "numbers = [5, 7, 11, 15]\n",
    "print(instance.f(5))\n",
    "print(instance.f(9.25))\n",
    "\n",
    "\"\"\"These comments are documentation\"\"\"\n",
    "\n",
    "help(f)\n"
   ]
  },
  {
   "cell_type": "markdown",
   "metadata": {},
   "source": [
    "Suggested Solutions/notes:\n",
    "\n",
    "-In general, we try to keep functions to things that don't change their arguments. Use classes instead for this case\n",
    "-Good practice for executable scripts, to use \n",
    "\n",
    "if __name__ == \"__main__\":\n",
    "    sys.exit(main())\n",
    "    \n",
    "Prevents a script being run when you import it from somewhere else"
   ]
  },
  {
   "cell_type": "code",
   "execution_count": 7,
   "metadata": {},
   "outputs": [
    {
     "name": "stdout",
     "output_type": "stream",
     "text": [
      "[True, True, True, True, True]\n"
     ]
    }
   ],
   "source": [
    "# Exercise 1\n",
    "\n",
    "from math import sqrt, cosh, sinh\n",
    "favnums = [1, 3.1415, sqrt(7), 6, 7.5]\n",
    "print([(cosh(i)**2 - sinh(i)**2 - 1) < 1e-6 for i in favnums])"
   ]
  },
  {
   "cell_type": "code",
   "execution_count": 10,
   "metadata": {},
   "outputs": [
    {
     "data": {
      "text/plain": [
       "[0, 3]"
      ]
     },
     "execution_count": 10,
     "metadata": {},
     "output_type": "execute_result"
    }
   ],
   "source": [
    "# Exercise 2\n",
    "\n",
    "def is_divisible(x, n):\n",
    "    \"\"\" Find the indices of x where the element is exactly divisible by n\n",
    "    \n",
    "    Arguments:\n",
    "    x - list of numbers to test\n",
    "    n - single divisor\n",
    "    \n",
    "    Returns a list of the indices of x for which the value of the element is\n",
    "    divisible by n (to a precision of 1e-6 in the case of floats)\n",
    "    \n",
    "    Example:\n",
    "    >>> is_divisible([3, 1, 3.1415, 6, 7.5], 3)\n",
    "    [0, 3]\n",
    "    \n",
    "    \"\"\"\n",
    "    \n",
    "    r = []\n",
    "    small = 1e-6\n",
    "    for i, m in enumerate(x):\n",
    "        if abs(m % n) < small:\n",
    "            r.append(i)\n",
    "    return r\n",
    "\n",
    "is_divisible([3, 1, 3.1415, 6, 7.5], 3)"
   ]
  },
  {
   "cell_type": "code",
   "execution_count": 11,
   "metadata": {},
   "outputs": [
    {
     "data": {
      "text/plain": [
       "[0, 3]"
      ]
     },
     "execution_count": 11,
     "metadata": {},
     "output_type": "execute_result"
    }
   ],
   "source": [
    "def is_divisible_from_file(fname, n):\n",
    "    \"\"\" Find the indices of x where the element is exactly divisible by n\n",
    "    \n",
    "    Arguments:\n",
    "    x - filename: file should contain rows of numbers\n",
    "    n - single divisor\n",
    "    \n",
    "    Returns a list of the indices of x for which the value of the element is\n",
    "    divisible by n (to a precision of 1e-6 in the case of floats)\n",
    "    \n",
    "    Example:\n",
    "    >>> is_divisible([3, 1, 3.1415, 6, 7.5], 3)\n",
    "    [0, 3]\n",
    "    \n",
    "    \"\"\"\n",
    "    \n",
    "    r = []\n",
    "    small = 1e-6\n",
    "    with open(fname) as f: # better practice to use with open(fname) as f\n",
    "        for l in f:\n",
    "            x = [float(j) for j in l.split()]\n",
    "            y = is_divisible(x, n)\n",
    "            r.append(y)\n",
    "            \"\"\"\n",
    "            y = []\n",
    "            for i, m in enumerate(x):\n",
    "                if abs(m % n) < small:\n",
    "                    y.append(i)\n",
    "            r.append(y)\n",
    "            \"\"\"\n",
    "    return r\n",
    "\n",
    "is_divisible([3, 1, 3.1415, 6, 7.5], 3)"
   ]
  },
  {
   "cell_type": "code",
   "execution_count": 12,
   "metadata": {},
   "outputs": [],
   "source": [
    "class Divtest(object):\n",
    "    \"\"\" Create an object for testing which elements of a list are exactly\n",
    "    divisible by n\n",
    "    \n",
    "    Example:\n",
    "        >>> div3tster = Divtest(3)\n",
    "        >>> div3tester.test([3, 1, 3.1415, 6, 7.5], 3)\n",
    "        [0,3]\n",
    "    \n",
    "    \"\"\"\n",
    "    \n",
    "    def __init__(self, n):\n",
    "        \"\"\"Initialise with a divisor of n\"\"\"\n",
    "        self.n = n\n",
    "        \n",
    "    def test(self, x):\n",
    "        \"\"\"Performs the divisor test\n",
    "        \n",
    "        Returns a list of the indices of x for which the value of the element is\n",
    "        divisible by n (to a precision of 1e-6 in the case of floats)\n",
    "              \n",
    "        \"\"\"\n",
    "        r = []\n",
    "        small = 1e-6\n",
    "        for i, m in enumerate(x):\n",
    "            if m % self.n < small:\n",
    "                r.append(i)\n",
    "        return r"
   ]
  },
  {
   "cell_type": "code",
   "execution_count": 20,
   "metadata": {},
   "outputs": [
    {
     "name": "stdout",
     "output_type": "stream",
     "text": [
      "Value 6 (at index 1) is divisible by 3\n",
      "Value 945 (at index 2) is divisible by 3\n"
     ]
    }
   ],
   "source": [
    "test_numbers = [4, 6, 945, 64, 3.42]\n",
    "\n",
    "divisor = 3\n",
    "div3tester = Divtest(divisor)\n",
    "idx = div3tester.test(test_numbers)\n",
    "for i in idx:\n",
    "    print('Value {} (at index {}) is divisible by {}'.format(test_numbers[i], i, \n",
    "                                                             divisor))"
   ]
  },
  {
   "cell_type": "code",
   "execution_count": 19,
   "metadata": {},
   "outputs": [
    {
     "name": "stdout",
     "output_type": "stream",
     "text": [
      "Help on class Divtest in module __main__:\n",
      "\n",
      "class Divtest(builtins.object)\n",
      " |  Divtest(n)\n",
      " |  \n",
      " |  Create an object for testing which elements of a list are exactly\n",
      " |  divisible by n\n",
      " |  \n",
      " |  Example:\n",
      " |      >>> div3tster = Divtest(3)\n",
      " |      >>> div3tester.test([3, 1, 3.1415, 6, 7.5], 3)\n",
      " |      [0,3]\n",
      " |  \n",
      " |  Methods defined here:\n",
      " |  \n",
      " |  __init__(self, n)\n",
      " |      Initialise with a divisor of n\n",
      " |  \n",
      " |  test(self, x)\n",
      " |      Performs the divisor test\n",
      " |      \n",
      " |      Returns a list of the indices of x for which the value of the element is\n",
      " |      divisible by n (to a precision of 1e-6 in the case of floats)\n",
      " |  \n",
      " |  ----------------------------------------------------------------------\n",
      " |  Data descriptors defined here:\n",
      " |  \n",
      " |  __dict__\n",
      " |      dictionary for instance variables (if defined)\n",
      " |  \n",
      " |  __weakref__\n",
      " |      list of weak references to the object (if defined)\n",
      "\n"
     ]
    }
   ],
   "source": [
    "help(Divtest)"
   ]
  },
  {
   "cell_type": "code",
   "execution_count": 27,
   "metadata": {},
   "outputs": [
    {
     "name": "stdout",
     "output_type": "stream",
     "text": [
      "My number is 1.2312456789\n",
      "My number is 1.2312456789\n",
      "My number is 1.2312456789\n",
      "My number is 1.2312456789\n"
     ]
    }
   ],
   "source": [
    "# Random print example\n",
    "\n",
    "y = 'number'\n",
    "x = 1.23124567890\n",
    "\n",
    "# All of these approaches give the same output\n",
    "\n",
    "print('My', y, 'is', x)\n",
    "\n",
    "template = 'My {a} is {b}'\n",
    "print(template.format(a=y, b=x))\n",
    "\n",
    "template = 'My {} is {}'\n",
    "print(template.format(y, x))\n",
    "\n",
    "print(f'My {y} is {x}') # 'f' looks for variable names x, y that are the same as the placeholder names {x}, {y}"
   ]
  }
 ],
 "metadata": {
  "kernelspec": {
   "display_name": "Python 3",
   "language": "python",
   "name": "python3"
  },
  "language_info": {
   "codemirror_mode": {
    "name": "ipython",
    "version": 3
   },
   "file_extension": ".py",
   "mimetype": "text/x-python",
   "name": "python",
   "nbconvert_exporter": "python",
   "pygments_lexer": "ipython3",
   "version": "3.8.3"
  }
 },
 "nbformat": 4,
 "nbformat_minor": 4
}
