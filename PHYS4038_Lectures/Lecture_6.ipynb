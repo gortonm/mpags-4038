{
 "cells": [
  {
   "cell_type": "markdown",
   "metadata": {},
   "source": [
    "# Handling datasets"
   ]
  },
  {
   "cell_type": "markdown",
   "metadata": {},
   "source": [
    "## Databases\n",
    "Python has tools for accessing most (all?) databases\n",
    "- e.g. MySQL, SQLite, MongoDB, Postgres\n",
    "\n",
    "Allows one to work with huge datasets\n",
    "\n",
    "Data can be at remote locations\n",
    "\n",
    "Robust and fast\n",
    "\n",
    "May require knowledge of DB-specific language\n",
    "\n",
    "But often provide Pythonic interface\n",
    "\n",
    "E.g. uses\n",
    "- accessing user data (need to collate all changes)"
   ]
  },
  {
   "cell_type": "markdown",
   "metadata": {},
   "source": [
    "### SQLite\n",
    "Good for just trying out a database, to get started\n",
    "- Lightweight\n",
    "- No server\n",
    "- Just uses files (convenient, but less powerful)\n",
    "- standard python module: ```sqlite3```\n",
    "\n",
    "### MariaDB (MySQL)\n",
    "- Widely used\n",
    "- Need MySQL server installed\n",
    "- Official python packages: ```mariadb```\n",
    "- Third party pyton packages: ```SQLAlchemy```, ```mysqlclient```, ```pymysql```, ```MySQLdb```\n",
    "\n",
    "### MongoDB\n",
    "NoSQL database \n",
    "- Documents rather than tables (more flexible, SQL fixed tables can be hard to update)\n",
    "- NeedMongo database server\n",
    "- Official python package: ```pymongo```\n",
    "- Probably less use in science, since less rigid"
   ]
  },
  {
   "cell_type": "markdown",
   "metadata": {},
   "source": [
    "## DB pros and cons\n",
    "\n",
    "Good for dealing with small parts, in streams of data\n",
    "- Allows one to work wth huge datasets\n",
    "- Data can be at remote locations\n",
    "- Fast random read and write\n",
    "- Concurrent, atomic transactions\n",
    "\n",
    "However, most databases designed for webserver use\n",
    "- typically not optimised for data analysis\n",
    "- write once, multiple sequential reads"
   ]
  },
  {
   "cell_type": "markdown",
   "metadata": {},
   "source": [
    "## Pandas\n",
    "Python Data Analysis Library\n",
    "- https://pandas.pydata.org\n",
    "\n",
    "Easy-to-use data structures\n",
    "- DataFrame (more friendly recarray\n",
    "- Handles missing data (more friendly masked array)\n",
    "- Read and write various data formats\n",
    "- Data alignment\n",
    "    - Tries to be helpful, but not always intuitive\n",
    "- Easy to combine data tables\n",
    "- Surprisingly fast!"
   ]
  },
  {
   "cell_type": "markdown",
   "metadata": {},
   "source": [
    "## Pandas demo"
   ]
  },
  {
   "cell_type": "code",
   "execution_count": 3,
   "metadata": {},
   "outputs": [],
   "source": [
    "import pandas as pd\n",
    "import numpy as np\n",
    "%matplotlib inline\n",
    "import matplotlib.pyplot as plt"
   ]
  },
  {
   "cell_type": "code",
   "execution_count": 4,
   "metadata": {},
   "outputs": [],
   "source": [
    "# better looking plots\n",
    "plt.rcParams['font.family'] = 'serif'\n",
    "plt.rcParams['figure.figsize'] = (10.0, 7.0)\n",
    "plt.rcParams['font.size'] = 18"
   ]
  },
  {
   "cell_type": "markdown",
   "metadata": {},
   "source": [
    "### pandas provides a 1D series object, and 2D data frame\n",
    "For higher-dimensionality use a \"multi-index\""
   ]
  },
  {
   "cell_type": "code",
   "execution_count": 6,
   "metadata": {},
   "outputs": [],
   "source": [
    "# create data frame from numpy array\n",
    "t = np.arange(0.0, 1.0, 0.1)\n",
    "s = pd.Series(t)"
   ]
  },
  {
   "cell_type": "markdown",
   "metadata": {},
   "source": [
    "can also create data frame by creating multiple columns\n"
   ]
  },
  {
   "cell_type": "code",
   "execution_count": 8,
   "metadata": {},
   "outputs": [],
   "source": [
    "# e.g. simplest case, using a dictionary\n",
    "x = t + np.random.normal(scale=0.1, size=t.shape)\n",
    "y = x**2 + np.random.normal(scale=0.5, size=t.shape)\n",
    "df1 = pd.DataFrame({'x': x, 'y': y})"
   ]
  },
  {
   "cell_type": "markdown",
   "metadata": {},
   "source": [
    "### All pandas objects are indexed"
   ]
  },
  {
   "cell_type": "code",
   "execution_count": 9,
   "metadata": {},
   "outputs": [
    {
     "data": {
      "text/plain": [
       "0    0.0\n",
       "1    0.1\n",
       "2    0.2\n",
       "3    0.3\n",
       "4    0.4\n",
       "5    0.5\n",
       "6    0.6\n",
       "7    0.7\n",
       "8    0.8\n",
       "9    0.9\n",
       "dtype: float64"
      ]
     },
     "execution_count": 9,
     "metadata": {},
     "output_type": "execute_result"
    }
   ],
   "source": [
    "s"
   ]
  },
  {
   "cell_type": "code",
   "execution_count": 10,
   "metadata": {},
   "outputs": [
    {
     "data": {
      "text/html": [
       "<div>\n",
       "<style scoped>\n",
       "    .dataframe tbody tr th:only-of-type {\n",
       "        vertical-align: middle;\n",
       "    }\n",
       "\n",
       "    .dataframe tbody tr th {\n",
       "        vertical-align: top;\n",
       "    }\n",
       "\n",
       "    .dataframe thead th {\n",
       "        text-align: right;\n",
       "    }\n",
       "</style>\n",
       "<table border=\"1\" class=\"dataframe\">\n",
       "  <thead>\n",
       "    <tr style=\"text-align: right;\">\n",
       "      <th></th>\n",
       "      <th>x</th>\n",
       "      <th>y</th>\n",
       "    </tr>\n",
       "  </thead>\n",
       "  <tbody>\n",
       "    <tr>\n",
       "      <th>0</th>\n",
       "      <td>0.218046</td>\n",
       "      <td>0.127729</td>\n",
       "    </tr>\n",
       "    <tr>\n",
       "      <th>1</th>\n",
       "      <td>0.096169</td>\n",
       "      <td>0.381162</td>\n",
       "    </tr>\n",
       "    <tr>\n",
       "      <th>2</th>\n",
       "      <td>0.194856</td>\n",
       "      <td>0.251589</td>\n",
       "    </tr>\n",
       "    <tr>\n",
       "      <th>3</th>\n",
       "      <td>0.353908</td>\n",
       "      <td>1.029643</td>\n",
       "    </tr>\n",
       "    <tr>\n",
       "      <th>4</th>\n",
       "      <td>0.433169</td>\n",
       "      <td>-0.174312</td>\n",
       "    </tr>\n",
       "    <tr>\n",
       "      <th>5</th>\n",
       "      <td>0.557287</td>\n",
       "      <td>1.203427</td>\n",
       "    </tr>\n",
       "    <tr>\n",
       "      <th>6</th>\n",
       "      <td>0.578677</td>\n",
       "      <td>1.023158</td>\n",
       "    </tr>\n",
       "    <tr>\n",
       "      <th>7</th>\n",
       "      <td>0.475248</td>\n",
       "      <td>1.088102</td>\n",
       "    </tr>\n",
       "    <tr>\n",
       "      <th>8</th>\n",
       "      <td>0.950288</td>\n",
       "      <td>0.977494</td>\n",
       "    </tr>\n",
       "    <tr>\n",
       "      <th>9</th>\n",
       "      <td>0.909651</td>\n",
       "      <td>0.056299</td>\n",
       "    </tr>\n",
       "  </tbody>\n",
       "</table>\n",
       "</div>"
      ],
      "text/plain": [
       "          x         y\n",
       "0  0.218046  0.127729\n",
       "1  0.096169  0.381162\n",
       "2  0.194856  0.251589\n",
       "3  0.353908  1.029643\n",
       "4  0.433169 -0.174312\n",
       "5  0.557287  1.203427\n",
       "6  0.578677  1.023158\n",
       "7  0.475248  1.088102\n",
       "8  0.950288  0.977494\n",
       "9  0.909651  0.056299"
      ]
     },
     "execution_count": 10,
     "metadata": {},
     "output_type": "execute_result"
    }
   ],
   "source": [
    "df1"
   ]
  },
  {
   "cell_type": "markdown",
   "metadata": {},
   "source": [
    "### Sometimes it makes sense to use another variable as the index"
   ]
  },
  {
   "cell_type": "code",
   "execution_count": 12,
   "metadata": {},
   "outputs": [
    {
     "data": {
      "text/html": [
       "<div>\n",
       "<style scoped>\n",
       "    .dataframe tbody tr th:only-of-type {\n",
       "        vertical-align: middle;\n",
       "    }\n",
       "\n",
       "    .dataframe tbody tr th {\n",
       "        vertical-align: top;\n",
       "    }\n",
       "\n",
       "    .dataframe thead th {\n",
       "        text-align: right;\n",
       "    }\n",
       "</style>\n",
       "<table border=\"1\" class=\"dataframe\">\n",
       "  <thead>\n",
       "    <tr style=\"text-align: right;\">\n",
       "      <th></th>\n",
       "      <th>x</th>\n",
       "      <th>y</th>\n",
       "    </tr>\n",
       "  </thead>\n",
       "  <tbody>\n",
       "    <tr>\n",
       "      <th>0.0</th>\n",
       "      <td>0.218046</td>\n",
       "      <td>0.127729</td>\n",
       "    </tr>\n",
       "    <tr>\n",
       "      <th>0.1</th>\n",
       "      <td>0.096169</td>\n",
       "      <td>0.381162</td>\n",
       "    </tr>\n",
       "    <tr>\n",
       "      <th>0.2</th>\n",
       "      <td>0.194856</td>\n",
       "      <td>0.251589</td>\n",
       "    </tr>\n",
       "    <tr>\n",
       "      <th>0.3</th>\n",
       "      <td>0.353908</td>\n",
       "      <td>1.029643</td>\n",
       "    </tr>\n",
       "    <tr>\n",
       "      <th>0.4</th>\n",
       "      <td>0.433169</td>\n",
       "      <td>-0.174312</td>\n",
       "    </tr>\n",
       "    <tr>\n",
       "      <th>0.5</th>\n",
       "      <td>0.557287</td>\n",
       "      <td>1.203427</td>\n",
       "    </tr>\n",
       "    <tr>\n",
       "      <th>0.6</th>\n",
       "      <td>0.578677</td>\n",
       "      <td>1.023158</td>\n",
       "    </tr>\n",
       "    <tr>\n",
       "      <th>0.7</th>\n",
       "      <td>0.475248</td>\n",
       "      <td>1.088102</td>\n",
       "    </tr>\n",
       "    <tr>\n",
       "      <th>0.8</th>\n",
       "      <td>0.950288</td>\n",
       "      <td>0.977494</td>\n",
       "    </tr>\n",
       "    <tr>\n",
       "      <th>0.9</th>\n",
       "      <td>0.909651</td>\n",
       "      <td>0.056299</td>\n",
       "    </tr>\n",
       "  </tbody>\n",
       "</table>\n",
       "</div>"
      ],
      "text/plain": [
       "            x         y\n",
       "0.0  0.218046  0.127729\n",
       "0.1  0.096169  0.381162\n",
       "0.2  0.194856  0.251589\n",
       "0.3  0.353908  1.029643\n",
       "0.4  0.433169 -0.174312\n",
       "0.5  0.557287  1.203427\n",
       "0.6  0.578677  1.023158\n",
       "0.7  0.475248  1.088102\n",
       "0.8  0.950288  0.977494\n",
       "0.9  0.909651  0.056299"
      ]
     },
     "execution_count": 12,
     "metadata": {},
     "output_type": "execute_result"
    }
   ],
   "source": [
    "# e.g. use t as your index\n",
    "df1 = pd.DataFrame({'x': x, 'y': y}, index=t)\n",
    "df1"
   ]
  },
  {
   "cell_type": "code",
   "execution_count": 13,
   "metadata": {},
   "outputs": [
    {
     "data": {
      "text/html": [
       "<div>\n",
       "<style scoped>\n",
       "    .dataframe tbody tr th:only-of-type {\n",
       "        vertical-align: middle;\n",
       "    }\n",
       "\n",
       "    .dataframe tbody tr th {\n",
       "        vertical-align: top;\n",
       "    }\n",
       "\n",
       "    .dataframe thead th {\n",
       "        text-align: right;\n",
       "    }\n",
       "</style>\n",
       "<table border=\"1\" class=\"dataframe\">\n",
       "  <thead>\n",
       "    <tr style=\"text-align: right;\">\n",
       "      <th></th>\n",
       "      <th>x</th>\n",
       "      <th>y</th>\n",
       "    </tr>\n",
       "    <tr>\n",
       "      <th>t</th>\n",
       "      <th></th>\n",
       "      <th></th>\n",
       "    </tr>\n",
       "  </thead>\n",
       "  <tbody>\n",
       "    <tr>\n",
       "      <th>0.0</th>\n",
       "      <td>0.218046</td>\n",
       "      <td>0.127729</td>\n",
       "    </tr>\n",
       "    <tr>\n",
       "      <th>0.1</th>\n",
       "      <td>0.096169</td>\n",
       "      <td>0.381162</td>\n",
       "    </tr>\n",
       "    <tr>\n",
       "      <th>0.2</th>\n",
       "      <td>0.194856</td>\n",
       "      <td>0.251589</td>\n",
       "    </tr>\n",
       "    <tr>\n",
       "      <th>0.3</th>\n",
       "      <td>0.353908</td>\n",
       "      <td>1.029643</td>\n",
       "    </tr>\n",
       "    <tr>\n",
       "      <th>0.4</th>\n",
       "      <td>0.433169</td>\n",
       "      <td>-0.174312</td>\n",
       "    </tr>\n",
       "    <tr>\n",
       "      <th>0.5</th>\n",
       "      <td>0.557287</td>\n",
       "      <td>1.203427</td>\n",
       "    </tr>\n",
       "    <tr>\n",
       "      <th>0.6</th>\n",
       "      <td>0.578677</td>\n",
       "      <td>1.023158</td>\n",
       "    </tr>\n",
       "    <tr>\n",
       "      <th>0.7</th>\n",
       "      <td>0.475248</td>\n",
       "      <td>1.088102</td>\n",
       "    </tr>\n",
       "    <tr>\n",
       "      <th>0.8</th>\n",
       "      <td>0.950288</td>\n",
       "      <td>0.977494</td>\n",
       "    </tr>\n",
       "    <tr>\n",
       "      <th>0.9</th>\n",
       "      <td>0.909651</td>\n",
       "      <td>0.056299</td>\n",
       "    </tr>\n",
       "  </tbody>\n",
       "</table>\n",
       "</div>"
      ],
      "text/plain": [
       "            x         y\n",
       "t                      \n",
       "0.0  0.218046  0.127729\n",
       "0.1  0.096169  0.381162\n",
       "0.2  0.194856  0.251589\n",
       "0.3  0.353908  1.029643\n",
       "0.4  0.433169 -0.174312\n",
       "0.5  0.557287  1.203427\n",
       "0.6  0.578677  1.023158\n",
       "0.7  0.475248  1.088102\n",
       "0.8  0.950288  0.977494\n",
       "0.9  0.909651  0.056299"
      ]
     },
     "execution_count": 13,
     "metadata": {},
     "output_type": "execute_result"
    }
   ],
   "source": [
    "# can rename the axis which acts as your index\n",
    "df1 = df1.rename_axis('t')\n",
    "df1"
   ]
  },
  {
   "cell_type": "code",
   "execution_count": 14,
   "metadata": {},
   "outputs": [
    {
     "data": {
      "text/html": [
       "<div>\n",
       "<style scoped>\n",
       "    .dataframe tbody tr th:only-of-type {\n",
       "        vertical-align: middle;\n",
       "    }\n",
       "\n",
       "    .dataframe tbody tr th {\n",
       "        vertical-align: top;\n",
       "    }\n",
       "\n",
       "    .dataframe thead th {\n",
       "        text-align: right;\n",
       "    }\n",
       "</style>\n",
       "<table border=\"1\" class=\"dataframe\">\n",
       "  <thead>\n",
       "    <tr style=\"text-align: right;\">\n",
       "      <th>vars</th>\n",
       "      <th>x</th>\n",
       "      <th>y</th>\n",
       "    </tr>\n",
       "    <tr>\n",
       "      <th>t</th>\n",
       "      <th></th>\n",
       "      <th></th>\n",
       "    </tr>\n",
       "  </thead>\n",
       "  <tbody>\n",
       "    <tr>\n",
       "      <th>0.0</th>\n",
       "      <td>0.218046</td>\n",
       "      <td>0.127729</td>\n",
       "    </tr>\n",
       "    <tr>\n",
       "      <th>0.1</th>\n",
       "      <td>0.096169</td>\n",
       "      <td>0.381162</td>\n",
       "    </tr>\n",
       "    <tr>\n",
       "      <th>0.2</th>\n",
       "      <td>0.194856</td>\n",
       "      <td>0.251589</td>\n",
       "    </tr>\n",
       "    <tr>\n",
       "      <th>0.3</th>\n",
       "      <td>0.353908</td>\n",
       "      <td>1.029643</td>\n",
       "    </tr>\n",
       "    <tr>\n",
       "      <th>0.4</th>\n",
       "      <td>0.433169</td>\n",
       "      <td>-0.174312</td>\n",
       "    </tr>\n",
       "    <tr>\n",
       "      <th>0.5</th>\n",
       "      <td>0.557287</td>\n",
       "      <td>1.203427</td>\n",
       "    </tr>\n",
       "    <tr>\n",
       "      <th>0.6</th>\n",
       "      <td>0.578677</td>\n",
       "      <td>1.023158</td>\n",
       "    </tr>\n",
       "    <tr>\n",
       "      <th>0.7</th>\n",
       "      <td>0.475248</td>\n",
       "      <td>1.088102</td>\n",
       "    </tr>\n",
       "    <tr>\n",
       "      <th>0.8</th>\n",
       "      <td>0.950288</td>\n",
       "      <td>0.977494</td>\n",
       "    </tr>\n",
       "    <tr>\n",
       "      <th>0.9</th>\n",
       "      <td>0.909651</td>\n",
       "      <td>0.056299</td>\n",
       "    </tr>\n",
       "  </tbody>\n",
       "</table>\n",
       "</div>"
      ],
      "text/plain": [
       "vars         x         y\n",
       "t                       \n",
       "0.0   0.218046  0.127729\n",
       "0.1   0.096169  0.381162\n",
       "0.2   0.194856  0.251589\n",
       "0.3   0.353908  1.029643\n",
       "0.4   0.433169 -0.174312\n",
       "0.5   0.557287  1.203427\n",
       "0.6   0.578677  1.023158\n",
       "0.7   0.475248  1.088102\n",
       "0.8   0.950288  0.977494\n",
       "0.9   0.909651  0.056299"
      ]
     },
     "execution_count": 14,
     "metadata": {},
     "output_type": "execute_result"
    }
   ],
   "source": [
    "# can give a name to the columns\n",
    "df1 = df1.rename_axis('vars', axis='columns')\n",
    "df1"
   ]
  },
  {
   "cell_type": "code",
   "execution_count": 15,
   "metadata": {},
   "outputs": [
    {
     "data": {
      "text/html": [
       "<div>\n",
       "<style scoped>\n",
       "    .dataframe tbody tr th:only-of-type {\n",
       "        vertical-align: middle;\n",
       "    }\n",
       "\n",
       "    .dataframe tbody tr th {\n",
       "        vertical-align: top;\n",
       "    }\n",
       "\n",
       "    .dataframe thead th {\n",
       "        text-align: right;\n",
       "    }\n",
       "</style>\n",
       "<table border=\"1\" class=\"dataframe\">\n",
       "  <thead>\n",
       "    <tr style=\"text-align: right;\">\n",
       "      <th>vars</th>\n",
       "      <th>x</th>\n",
       "      <th>y</th>\n",
       "    </tr>\n",
       "    <tr>\n",
       "      <th>t</th>\n",
       "      <th></th>\n",
       "      <th></th>\n",
       "    </tr>\n",
       "  </thead>\n",
       "  <tbody>\n",
       "    <tr>\n",
       "      <th>0.0</th>\n",
       "      <td>0.218046</td>\n",
       "      <td>0.127729</td>\n",
       "    </tr>\n",
       "    <tr>\n",
       "      <th>0.1</th>\n",
       "      <td>0.096169</td>\n",
       "      <td>0.381162</td>\n",
       "    </tr>\n",
       "    <tr>\n",
       "      <th>0.2</th>\n",
       "      <td>0.194856</td>\n",
       "      <td>0.251589</td>\n",
       "    </tr>\n",
       "    <tr>\n",
       "      <th>0.3</th>\n",
       "      <td>0.353908</td>\n",
       "      <td>1.029643</td>\n",
       "    </tr>\n",
       "    <tr>\n",
       "      <th>0.4</th>\n",
       "      <td>0.433169</td>\n",
       "      <td>-0.174312</td>\n",
       "    </tr>\n",
       "    <tr>\n",
       "      <th>0.5</th>\n",
       "      <td>0.557287</td>\n",
       "      <td>1.203427</td>\n",
       "    </tr>\n",
       "    <tr>\n",
       "      <th>0.6</th>\n",
       "      <td>0.578677</td>\n",
       "      <td>1.023158</td>\n",
       "    </tr>\n",
       "    <tr>\n",
       "      <th>0.7</th>\n",
       "      <td>0.475248</td>\n",
       "      <td>1.088102</td>\n",
       "    </tr>\n",
       "    <tr>\n",
       "      <th>0.8</th>\n",
       "      <td>0.950288</td>\n",
       "      <td>0.977494</td>\n",
       "    </tr>\n",
       "    <tr>\n",
       "      <th>0.9</th>\n",
       "      <td>0.909651</td>\n",
       "      <td>0.056299</td>\n",
       "    </tr>\n",
       "  </tbody>\n",
       "</table>\n",
       "</div>"
      ],
      "text/plain": [
       "vars         x         y\n",
       "t                       \n",
       "0.0   0.218046  0.127729\n",
       "0.1   0.096169  0.381162\n",
       "0.2   0.194856  0.251589\n",
       "0.3   0.353908  1.029643\n",
       "0.4   0.433169 -0.174312\n",
       "0.5   0.557287  1.203427\n",
       "0.6   0.578677  1.023158\n",
       "0.7   0.475248  1.088102\n",
       "0.8   0.950288  0.977494\n",
       "0.9   0.909651  0.056299"
      ]
     },
     "execution_count": 15,
     "metadata": {},
     "output_type": "execute_result"
    }
   ],
   "source": [
    "# another way to set an index, can have info in a column beforehand\n",
    "df1 = pd.DataFrame({'t': t, 'x': x, 'y': y})\n",
    "df1 = df1.set_index('t')\n",
    "df1 = df1.rename_axis('vars', axis='columns')\n",
    "df1"
   ]
  },
  {
   "cell_type": "markdown",
   "metadata": {},
   "source": [
    "Note that most operations on a DataFrame return a new DataFrame, rather than changing te existing one.\n",
    "\n",
    "This is generally done in a clever way, so it is still efficient\n",
    "\n",
    "If you want to make a change to the original, you can use the argument\n",
    "```inplace = True```"
   ]
  },
  {
   "cell_type": "markdown",
   "metadata": {},
   "source": [
    "### Sorting"
   ]
  },
  {
   "cell_type": "code",
   "execution_count": 16,
   "metadata": {},
   "outputs": [
    {
     "data": {
      "text/html": [
       "<div>\n",
       "<style scoped>\n",
       "    .dataframe tbody tr th:only-of-type {\n",
       "        vertical-align: middle;\n",
       "    }\n",
       "\n",
       "    .dataframe tbody tr th {\n",
       "        vertical-align: top;\n",
       "    }\n",
       "\n",
       "    .dataframe thead th {\n",
       "        text-align: right;\n",
       "    }\n",
       "</style>\n",
       "<table border=\"1\" class=\"dataframe\">\n",
       "  <thead>\n",
       "    <tr style=\"text-align: right;\">\n",
       "      <th>vars</th>\n",
       "      <th>x</th>\n",
       "      <th>y</th>\n",
       "    </tr>\n",
       "    <tr>\n",
       "      <th>t</th>\n",
       "      <th></th>\n",
       "      <th></th>\n",
       "    </tr>\n",
       "  </thead>\n",
       "  <tbody>\n",
       "    <tr>\n",
       "      <th>0.4</th>\n",
       "      <td>0.433169</td>\n",
       "      <td>-0.174312</td>\n",
       "    </tr>\n",
       "    <tr>\n",
       "      <th>0.9</th>\n",
       "      <td>0.909651</td>\n",
       "      <td>0.056299</td>\n",
       "    </tr>\n",
       "    <tr>\n",
       "      <th>0.0</th>\n",
       "      <td>0.218046</td>\n",
       "      <td>0.127729</td>\n",
       "    </tr>\n",
       "    <tr>\n",
       "      <th>0.2</th>\n",
       "      <td>0.194856</td>\n",
       "      <td>0.251589</td>\n",
       "    </tr>\n",
       "    <tr>\n",
       "      <th>0.1</th>\n",
       "      <td>0.096169</td>\n",
       "      <td>0.381162</td>\n",
       "    </tr>\n",
       "    <tr>\n",
       "      <th>0.8</th>\n",
       "      <td>0.950288</td>\n",
       "      <td>0.977494</td>\n",
       "    </tr>\n",
       "    <tr>\n",
       "      <th>0.6</th>\n",
       "      <td>0.578677</td>\n",
       "      <td>1.023158</td>\n",
       "    </tr>\n",
       "    <tr>\n",
       "      <th>0.3</th>\n",
       "      <td>0.353908</td>\n",
       "      <td>1.029643</td>\n",
       "    </tr>\n",
       "    <tr>\n",
       "      <th>0.7</th>\n",
       "      <td>0.475248</td>\n",
       "      <td>1.088102</td>\n",
       "    </tr>\n",
       "    <tr>\n",
       "      <th>0.5</th>\n",
       "      <td>0.557287</td>\n",
       "      <td>1.203427</td>\n",
       "    </tr>\n",
       "  </tbody>\n",
       "</table>\n",
       "</div>"
      ],
      "text/plain": [
       "vars         x         y\n",
       "t                       \n",
       "0.4   0.433169 -0.174312\n",
       "0.9   0.909651  0.056299\n",
       "0.0   0.218046  0.127729\n",
       "0.2   0.194856  0.251589\n",
       "0.1   0.096169  0.381162\n",
       "0.8   0.950288  0.977494\n",
       "0.6   0.578677  1.023158\n",
       "0.3   0.353908  1.029643\n",
       "0.7   0.475248  1.088102\n",
       "0.5   0.557287  1.203427"
      ]
     },
     "execution_count": 16,
     "metadata": {},
     "output_type": "execute_result"
    }
   ],
   "source": [
    "df1.sort_values('y') # sort by y values"
   ]
  },
  {
   "cell_type": "markdown",
   "metadata": {},
   "source": [
    "### Plot directly from pandas"
   ]
  },
  {
   "cell_type": "code",
   "execution_count": 17,
   "metadata": {},
   "outputs": [
    {
     "data": {
      "image/png": "[encoded data removed]",
      "text/plain": [
       "<Figure size 720x504 with 1 Axes>"
      ]
     },
     "metadata": {
      "needs_background": "light"
     },
     "output_type": "display_data"
    }
   ],
   "source": [
    "ax = df1.plot()\n",
    "#can now use matplotlib commands on ax\n",
    "ax.set_xlabel('t');"
   ]
  },
  {
   "cell_type": "code",
   "execution_count": 19,
   "metadata": {},
   "outputs": [
    {
     "data": {
      "text/plain": [
       "<matplotlib.axes._subplots.AxesSubplot at 0x7fa6d63609a0>"
      ]
     },
     "execution_count": 19,
     "metadata": {},
     "output_type": "execute_result"
    },
    {
     "data": {
      "image/png": "[encoded data removed]",
      "text/plain": [
       "<Figure size 720x504 with 1 Axes>"
      ]
     },
     "metadata": {
      "needs_background": "light"
     },
     "output_type": "display_data"
    }
   ],
   "source": [
    "df1.plot('x', 'y', 'scatter')"
   ]
  },
  {
   "cell_type": "code",
   "execution_count": 20,
   "metadata": {},
   "outputs": [
    {
     "data": {
      "text/plain": [
       "<matplotlib.axes._subplots.AxesSubplot at 0x7fa6d5884b50>"
      ]
     },
     "execution_count": 20,
     "metadata": {},
     "output_type": "execute_result"
    },
    {
     "data": {
      "image/png": "[encoded data removed]",
      "text/plain": [
       "<Figure size 720x504 with 1 Axes>"
      ]
     },
     "metadata": {
      "needs_background": "light"
     },
     "output_type": "display_data"
    }
   ],
   "source": [
    "df1.plot(kind='hist', alpha=0.5)"
   ]
  },
  {
   "cell_type": "markdown",
   "metadata": {},
   "source": [
    "### Accessing data\n",
    "Get columns by slicing dataframe\n",
    "\n",
    "NOTE: Columns are first index"
   ]
  },
  {
   "cell_type": "code",
   "execution_count": 23,
   "metadata": {},
   "outputs": [
    {
     "data": {
      "text/plain": [
       "t\n",
       "0.0    0.218046\n",
       "0.1    0.096169\n",
       "0.2    0.194856\n",
       "0.3    0.353908\n",
       "0.4    0.433169\n",
       "0.5    0.557287\n",
       "0.6    0.578677\n",
       "0.7    0.475248\n",
       "0.8    0.950288\n",
       "0.9    0.909651\n",
       "Name: x, dtype: float64"
      ]
     },
     "execution_count": 23,
     "metadata": {},
     "output_type": "execute_result"
    }
   ],
   "source": [
    "# typically refer to columns by their actual names\n",
    "# returns a pandas Series\n",
    "df1['x']"
   ]
  },
  {
   "cell_type": "code",
   "execution_count": 24,
   "metadata": {},
   "outputs": [
    {
     "data": {
      "text/plain": [
       "t\n",
       "0.0    0.218046\n",
       "0.1    0.096169\n",
       "0.2    0.194856\n",
       "0.3    0.353908\n",
       "0.4    0.433169\n",
       "0.5    0.557287\n",
       "0.6    0.578677\n",
       "0.7    0.475248\n",
       "0.8    0.950288\n",
       "0.9    0.909651\n",
       "Name: x, dtype: float64"
      ]
     },
     "execution_count": 24,
     "metadata": {},
     "output_type": "execute_result"
    }
   ],
   "source": [
    "# can also do this, but not recommended\n",
    "df1.x"
   ]
  },
  {
   "cell_type": "markdown",
   "metadata": {},
   "source": [
    "Get rows by slicing ```.loc``` using index, or ```.iloc``` using integer position\n",
    "\n",
    "Note that endpoints in ```.loc``` are inclusive, unlike numpy"
   ]
  },
  {
   "cell_type": "code",
   "execution_count": 26,
   "metadata": {},
   "outputs": [
    {
     "data": {
      "text/html": [
       "<div>\n",
       "<style scoped>\n",
       "    .dataframe tbody tr th:only-of-type {\n",
       "        vertical-align: middle;\n",
       "    }\n",
       "\n",
       "    .dataframe tbody tr th {\n",
       "        vertical-align: top;\n",
       "    }\n",
       "\n",
       "    .dataframe thead th {\n",
       "        text-align: right;\n",
       "    }\n",
       "</style>\n",
       "<table border=\"1\" class=\"dataframe\">\n",
       "  <thead>\n",
       "    <tr style=\"text-align: right;\">\n",
       "      <th>vars</th>\n",
       "      <th>x</th>\n",
       "      <th>y</th>\n",
       "    </tr>\n",
       "    <tr>\n",
       "      <th>t</th>\n",
       "      <th></th>\n",
       "      <th></th>\n",
       "    </tr>\n",
       "  </thead>\n",
       "  <tbody>\n",
       "    <tr>\n",
       "      <th>0.1</th>\n",
       "      <td>0.096169</td>\n",
       "      <td>0.381162</td>\n",
       "    </tr>\n",
       "    <tr>\n",
       "      <th>0.2</th>\n",
       "      <td>0.194856</td>\n",
       "      <td>0.251589</td>\n",
       "    </tr>\n",
       "    <tr>\n",
       "      <th>0.3</th>\n",
       "      <td>0.353908</td>\n",
       "      <td>1.029643</td>\n",
       "    </tr>\n",
       "    <tr>\n",
       "      <th>0.4</th>\n",
       "      <td>0.433169</td>\n",
       "      <td>-0.174312</td>\n",
       "    </tr>\n",
       "    <tr>\n",
       "      <th>0.5</th>\n",
       "      <td>0.557287</td>\n",
       "      <td>1.203427</td>\n",
       "    </tr>\n",
       "  </tbody>\n",
       "</table>\n",
       "</div>"
      ],
      "text/plain": [
       "vars         x         y\n",
       "t                       \n",
       "0.1   0.096169  0.381162\n",
       "0.2   0.194856  0.251589\n",
       "0.3   0.353908  1.029643\n",
       "0.4   0.433169 -0.174312\n",
       "0.5   0.557287  1.203427"
      ]
     },
     "execution_count": 26,
     "metadata": {},
     "output_type": "execute_result"
    }
   ],
   "source": [
    "# note: endpoints are inclusive\n",
    "df1.loc[0.1:0.5]"
   ]
  },
  {
   "cell_type": "code",
   "execution_count": 28,
   "metadata": {},
   "outputs": [
    {
     "data": {
      "text/html": [
       "<div>\n",
       "<style scoped>\n",
       "    .dataframe tbody tr th:only-of-type {\n",
       "        vertical-align: middle;\n",
       "    }\n",
       "\n",
       "    .dataframe tbody tr th {\n",
       "        vertical-align: top;\n",
       "    }\n",
       "\n",
       "    .dataframe thead th {\n",
       "        text-align: right;\n",
       "    }\n",
       "</style>\n",
       "<table border=\"1\" class=\"dataframe\">\n",
       "  <thead>\n",
       "    <tr style=\"text-align: right;\">\n",
       "      <th>vars</th>\n",
       "      <th>x</th>\n",
       "      <th>y</th>\n",
       "    </tr>\n",
       "    <tr>\n",
       "      <th>t</th>\n",
       "      <th></th>\n",
       "      <th></th>\n",
       "    </tr>\n",
       "  </thead>\n",
       "  <tbody>\n",
       "    <tr>\n",
       "      <th>0.1</th>\n",
       "      <td>0.096169</td>\n",
       "      <td>0.381162</td>\n",
       "    </tr>\n",
       "    <tr>\n",
       "      <th>0.2</th>\n",
       "      <td>0.194856</td>\n",
       "      <td>0.251589</td>\n",
       "    </tr>\n",
       "    <tr>\n",
       "      <th>0.3</th>\n",
       "      <td>0.353908</td>\n",
       "      <td>1.029643</td>\n",
       "    </tr>\n",
       "    <tr>\n",
       "      <th>0.4</th>\n",
       "      <td>0.433169</td>\n",
       "      <td>-0.174312</td>\n",
       "    </tr>\n",
       "  </tbody>\n",
       "</table>\n",
       "</div>"
      ],
      "text/plain": [
       "vars         x         y\n",
       "t                       \n",
       "0.1   0.096169  0.381162\n",
       "0.2   0.194856  0.251589\n",
       "0.3   0.353908  1.029643\n",
       "0.4   0.433169 -0.174312"
      ]
     },
     "execution_count": 28,
     "metadata": {},
     "output_type": "execute_result"
    }
   ],
   "source": [
    "# iloc uses the integer positions\n",
    "# not inclusive, acts like numpy\n",
    "df1.iloc[1:5]"
   ]
  },
  {
   "cell_type": "markdown",
   "metadata": {},
   "source": [
    "### Joining tables uses the index"
   ]
  },
  {
   "cell_type": "code",
   "execution_count": 29,
   "metadata": {},
   "outputs": [],
   "source": [
    "t2 = t[::2] # takes every other value of t\n",
    "z = t2**3 + np.random.normal(scale=1.0, size=t2.shape)"
   ]
  },
  {
   "cell_type": "code",
   "execution_count": 30,
   "metadata": {},
   "outputs": [
    {
     "data": {
      "text/html": [
       "<div>\n",
       "<style scoped>\n",
       "    .dataframe tbody tr th:only-of-type {\n",
       "        vertical-align: middle;\n",
       "    }\n",
       "\n",
       "    .dataframe tbody tr th {\n",
       "        vertical-align: top;\n",
       "    }\n",
       "\n",
       "    .dataframe thead th {\n",
       "        text-align: right;\n",
       "    }\n",
       "</style>\n",
       "<table border=\"1\" class=\"dataframe\">\n",
       "  <thead>\n",
       "    <tr style=\"text-align: right;\">\n",
       "      <th></th>\n",
       "      <th>z</th>\n",
       "      <th>z2</th>\n",
       "    </tr>\n",
       "  </thead>\n",
       "  <tbody>\n",
       "    <tr>\n",
       "      <th>0.0</th>\n",
       "      <td>0.742420</td>\n",
       "      <td>0.551188</td>\n",
       "    </tr>\n",
       "    <tr>\n",
       "      <th>0.2</th>\n",
       "      <td>1.636558</td>\n",
       "      <td>2.678321</td>\n",
       "    </tr>\n",
       "    <tr>\n",
       "      <th>0.4</th>\n",
       "      <td>-1.253546</td>\n",
       "      <td>1.571378</td>\n",
       "    </tr>\n",
       "    <tr>\n",
       "      <th>0.6</th>\n",
       "      <td>0.924216</td>\n",
       "      <td>0.854176</td>\n",
       "    </tr>\n",
       "    <tr>\n",
       "      <th>0.8</th>\n",
       "      <td>0.764846</td>\n",
       "      <td>0.584989</td>\n",
       "    </tr>\n",
       "  </tbody>\n",
       "</table>\n",
       "</div>"
      ],
      "text/plain": [
       "            z        z2\n",
       "0.0  0.742420  0.551188\n",
       "0.2  1.636558  2.678321\n",
       "0.4 -1.253546  1.571378\n",
       "0.6  0.924216  0.854176\n",
       "0.8  0.764846  0.584989"
      ]
     },
     "execution_count": 30,
     "metadata": {},
     "output_type": "execute_result"
    }
   ],
   "source": [
    "df2 = pd.DataFrame({'z': z, 'z2': z**2}, index=t2)\n",
    "df2"
   ]
  },
  {
   "cell_type": "code",
   "execution_count": 31,
   "metadata": {},
   "outputs": [
    {
     "data": {
      "text/html": [
       "<div>\n",
       "<style scoped>\n",
       "    .dataframe tbody tr th:only-of-type {\n",
       "        vertical-align: middle;\n",
       "    }\n",
       "\n",
       "    .dataframe tbody tr th {\n",
       "        vertical-align: top;\n",
       "    }\n",
       "\n",
       "    .dataframe thead th {\n",
       "        text-align: right;\n",
       "    }\n",
       "</style>\n",
       "<table border=\"1\" class=\"dataframe\">\n",
       "  <thead>\n",
       "    <tr style=\"text-align: right;\">\n",
       "      <th></th>\n",
       "      <th>x</th>\n",
       "      <th>y</th>\n",
       "      <th>z</th>\n",
       "      <th>z2</th>\n",
       "    </tr>\n",
       "    <tr>\n",
       "      <th>t</th>\n",
       "      <th></th>\n",
       "      <th></th>\n",
       "      <th></th>\n",
       "      <th></th>\n",
       "    </tr>\n",
       "  </thead>\n",
       "  <tbody>\n",
       "    <tr>\n",
       "      <th>0.0</th>\n",
       "      <td>0.218046</td>\n",
       "      <td>0.127729</td>\n",
       "      <td>0.742420</td>\n",
       "      <td>0.551188</td>\n",
       "    </tr>\n",
       "    <tr>\n",
       "      <th>0.1</th>\n",
       "      <td>0.096169</td>\n",
       "      <td>0.381162</td>\n",
       "      <td>NaN</td>\n",
       "      <td>NaN</td>\n",
       "    </tr>\n",
       "    <tr>\n",
       "      <th>0.2</th>\n",
       "      <td>0.194856</td>\n",
       "      <td>0.251589</td>\n",
       "      <td>1.636558</td>\n",
       "      <td>2.678321</td>\n",
       "    </tr>\n",
       "    <tr>\n",
       "      <th>0.3</th>\n",
       "      <td>0.353908</td>\n",
       "      <td>1.029643</td>\n",
       "      <td>NaN</td>\n",
       "      <td>NaN</td>\n",
       "    </tr>\n",
       "    <tr>\n",
       "      <th>0.4</th>\n",
       "      <td>0.433169</td>\n",
       "      <td>-0.174312</td>\n",
       "      <td>-1.253546</td>\n",
       "      <td>1.571378</td>\n",
       "    </tr>\n",
       "    <tr>\n",
       "      <th>0.5</th>\n",
       "      <td>0.557287</td>\n",
       "      <td>1.203427</td>\n",
       "      <td>NaN</td>\n",
       "      <td>NaN</td>\n",
       "    </tr>\n",
       "    <tr>\n",
       "      <th>0.6</th>\n",
       "      <td>0.578677</td>\n",
       "      <td>1.023158</td>\n",
       "      <td>0.924216</td>\n",
       "      <td>0.854176</td>\n",
       "    </tr>\n",
       "    <tr>\n",
       "      <th>0.7</th>\n",
       "      <td>0.475248</td>\n",
       "      <td>1.088102</td>\n",
       "      <td>NaN</td>\n",
       "      <td>NaN</td>\n",
       "    </tr>\n",
       "    <tr>\n",
       "      <th>0.8</th>\n",
       "      <td>0.950288</td>\n",
       "      <td>0.977494</td>\n",
       "      <td>0.764846</td>\n",
       "      <td>0.584989</td>\n",
       "    </tr>\n",
       "    <tr>\n",
       "      <th>0.9</th>\n",
       "      <td>0.909651</td>\n",
       "      <td>0.056299</td>\n",
       "      <td>NaN</td>\n",
       "      <td>NaN</td>\n",
       "    </tr>\n",
       "  </tbody>\n",
       "</table>\n",
       "</div>"
      ],
      "text/plain": [
       "            x         y         z        z2\n",
       "t                                          \n",
       "0.0  0.218046  0.127729  0.742420  0.551188\n",
       "0.1  0.096169  0.381162       NaN       NaN\n",
       "0.2  0.194856  0.251589  1.636558  2.678321\n",
       "0.3  0.353908  1.029643       NaN       NaN\n",
       "0.4  0.433169 -0.174312 -1.253546  1.571378\n",
       "0.5  0.557287  1.203427       NaN       NaN\n",
       "0.6  0.578677  1.023158  0.924216  0.854176\n",
       "0.7  0.475248  1.088102       NaN       NaN\n",
       "0.8  0.950288  0.977494  0.764846  0.584989\n",
       "0.9  0.909651  0.056299       NaN       NaN"
      ]
     },
     "execution_count": 31,
     "metadata": {},
     "output_type": "execute_result"
    }
   ],
   "source": [
    "df3 = df1.join(df2)\n",
    "df3"
   ]
  },
  {
   "cell_type": "markdown",
   "metadata": {},
   "source": [
    "### Pandas handles missing data intelligently\n",
    "Filling NaNs"
   ]
  },
  {
   "cell_type": "code",
   "execution_count": 35,
   "metadata": {},
   "outputs": [
    {
     "data": {
      "text/html": [
       "<div>\n",
       "<style scoped>\n",
       "    .dataframe tbody tr th:only-of-type {\n",
       "        vertical-align: middle;\n",
       "    }\n",
       "\n",
       "    .dataframe tbody tr th {\n",
       "        vertical-align: top;\n",
       "    }\n",
       "\n",
       "    .dataframe thead th {\n",
       "        text-align: right;\n",
       "    }\n",
       "</style>\n",
       "<table border=\"1\" class=\"dataframe\">\n",
       "  <thead>\n",
       "    <tr style=\"text-align: right;\">\n",
       "      <th></th>\n",
       "      <th>x</th>\n",
       "      <th>y</th>\n",
       "      <th>z</th>\n",
       "      <th>z2</th>\n",
       "    </tr>\n",
       "    <tr>\n",
       "      <th>t</th>\n",
       "      <th></th>\n",
       "      <th></th>\n",
       "      <th></th>\n",
       "      <th></th>\n",
       "    </tr>\n",
       "  </thead>\n",
       "  <tbody>\n",
       "    <tr>\n",
       "      <th>0.0</th>\n",
       "      <td>0.218046</td>\n",
       "      <td>0.127729</td>\n",
       "      <td>0.742420</td>\n",
       "      <td>0.551188</td>\n",
       "    </tr>\n",
       "    <tr>\n",
       "      <th>0.1</th>\n",
       "      <td>0.096169</td>\n",
       "      <td>0.381162</td>\n",
       "      <td>0.000000</td>\n",
       "      <td>0.000000</td>\n",
       "    </tr>\n",
       "    <tr>\n",
       "      <th>0.2</th>\n",
       "      <td>0.194856</td>\n",
       "      <td>0.251589</td>\n",
       "      <td>1.636558</td>\n",
       "      <td>2.678321</td>\n",
       "    </tr>\n",
       "    <tr>\n",
       "      <th>0.3</th>\n",
       "      <td>0.353908</td>\n",
       "      <td>1.029643</td>\n",
       "      <td>0.000000</td>\n",
       "      <td>0.000000</td>\n",
       "    </tr>\n",
       "    <tr>\n",
       "      <th>0.4</th>\n",
       "      <td>0.433169</td>\n",
       "      <td>-0.174312</td>\n",
       "      <td>-1.253546</td>\n",
       "      <td>1.571378</td>\n",
       "    </tr>\n",
       "    <tr>\n",
       "      <th>0.5</th>\n",
       "      <td>0.557287</td>\n",
       "      <td>1.203427</td>\n",
       "      <td>0.000000</td>\n",
       "      <td>0.000000</td>\n",
       "    </tr>\n",
       "    <tr>\n",
       "      <th>0.6</th>\n",
       "      <td>0.578677</td>\n",
       "      <td>1.023158</td>\n",
       "      <td>0.924216</td>\n",
       "      <td>0.854176</td>\n",
       "    </tr>\n",
       "    <tr>\n",
       "      <th>0.7</th>\n",
       "      <td>0.475248</td>\n",
       "      <td>1.088102</td>\n",
       "      <td>0.000000</td>\n",
       "      <td>0.000000</td>\n",
       "    </tr>\n",
       "    <tr>\n",
       "      <th>0.8</th>\n",
       "      <td>0.950288</td>\n",
       "      <td>0.977494</td>\n",
       "      <td>0.764846</td>\n",
       "      <td>0.584989</td>\n",
       "    </tr>\n",
       "    <tr>\n",
       "      <th>0.9</th>\n",
       "      <td>0.909651</td>\n",
       "      <td>0.056299</td>\n",
       "      <td>0.000000</td>\n",
       "      <td>0.000000</td>\n",
       "    </tr>\n",
       "  </tbody>\n",
       "</table>\n",
       "</div>"
      ],
      "text/plain": [
       "            x         y         z        z2\n",
       "t                                          \n",
       "0.0  0.218046  0.127729  0.742420  0.551188\n",
       "0.1  0.096169  0.381162  0.000000  0.000000\n",
       "0.2  0.194856  0.251589  1.636558  2.678321\n",
       "0.3  0.353908  1.029643  0.000000  0.000000\n",
       "0.4  0.433169 -0.174312 -1.253546  1.571378\n",
       "0.5  0.557287  1.203427  0.000000  0.000000\n",
       "0.6  0.578677  1.023158  0.924216  0.854176\n",
       "0.7  0.475248  1.088102  0.000000  0.000000\n",
       "0.8  0.950288  0.977494  0.764846  0.584989\n",
       "0.9  0.909651  0.056299  0.000000  0.000000"
      ]
     },
     "execution_count": 35,
     "metadata": {},
     "output_type": "execute_result"
    }
   ],
   "source": [
    "df3 = df3.fillna(0)\n",
    "df3"
   ]
  },
  {
   "cell_type": "markdown",
   "metadata": {},
   "source": [
    "## Binning data and grouped operations"
   ]
  },
  {
   "cell_type": "code",
   "execution_count": 36,
   "metadata": {},
   "outputs": [
    {
     "data": {
      "text/plain": [
       "t\n",
       "0.0    (-0.176, 0.285]\n",
       "0.1     (0.285, 0.744]\n",
       "0.2    (-0.176, 0.285]\n",
       "0.3     (0.744, 1.203]\n",
       "0.4    (-0.176, 0.285]\n",
       "0.5     (0.744, 1.203]\n",
       "0.6     (0.744, 1.203]\n",
       "0.7     (0.744, 1.203]\n",
       "0.8     (0.744, 1.203]\n",
       "0.9    (-0.176, 0.285]\n",
       "Name: y, dtype: category\n",
       "Categories (3, interval[float64]): [(-0.176, 0.285] < (0.285, 0.744] < (0.744, 1.203]]"
      ]
     },
     "execution_count": 36,
     "metadata": {},
     "output_type": "execute_result"
    }
   ],
   "source": [
    "pd.cut(df3.y, 3) # want to divide y column into 3 different categories"
   ]
  },
  {
   "cell_type": "markdown",
   "metadata": {},
   "source": [
    "```np.digitize``` and ```np.trunc``` (truncate floating point number) also useful for defining bins"
   ]
  },
  {
   "cell_type": "code",
   "execution_count": 37,
   "metadata": {},
   "outputs": [],
   "source": [
    "# can label groups\n",
    "groups = df3.groupby(pd.cut(df3.y, 3, labels=['low', 'medium', 'high']))"
   ]
  },
  {
   "cell_type": "code",
   "execution_count": 38,
   "metadata": {},
   "outputs": [
    {
     "data": {
      "text/html": [
       "<div>\n",
       "<style scoped>\n",
       "    .dataframe tbody tr th:only-of-type {\n",
       "        vertical-align: middle;\n",
       "    }\n",
       "\n",
       "    .dataframe tbody tr th {\n",
       "        vertical-align: top;\n",
       "    }\n",
       "\n",
       "    .dataframe thead th {\n",
       "        text-align: right;\n",
       "    }\n",
       "</style>\n",
       "<table border=\"1\" class=\"dataframe\">\n",
       "  <thead>\n",
       "    <tr style=\"text-align: right;\">\n",
       "      <th></th>\n",
       "      <th>x</th>\n",
       "      <th>y</th>\n",
       "      <th>z</th>\n",
       "      <th>z2</th>\n",
       "    </tr>\n",
       "    <tr>\n",
       "      <th>y</th>\n",
       "      <th></th>\n",
       "      <th></th>\n",
       "      <th></th>\n",
       "      <th></th>\n",
       "    </tr>\n",
       "  </thead>\n",
       "  <tbody>\n",
       "    <tr>\n",
       "      <th>low</th>\n",
       "      <td>0.438930</td>\n",
       "      <td>0.065327</td>\n",
       "      <td>0.281358</td>\n",
       "      <td>1.200222</td>\n",
       "    </tr>\n",
       "    <tr>\n",
       "      <th>medium</th>\n",
       "      <td>0.096169</td>\n",
       "      <td>0.381162</td>\n",
       "      <td>0.000000</td>\n",
       "      <td>0.000000</td>\n",
       "    </tr>\n",
       "    <tr>\n",
       "      <th>high</th>\n",
       "      <td>0.583081</td>\n",
       "      <td>1.064365</td>\n",
       "      <td>0.337812</td>\n",
       "      <td>0.287833</td>\n",
       "    </tr>\n",
       "  </tbody>\n",
       "</table>\n",
       "</div>"
      ],
      "text/plain": [
       "               x         y         z        z2\n",
       "y                                             \n",
       "low     0.438930  0.065327  0.281358  1.200222\n",
       "medium  0.096169  0.381162  0.000000  0.000000\n",
       "high    0.583081  1.064365  0.337812  0.287833"
      ]
     },
     "execution_count": 38,
     "metadata": {},
     "output_type": "execute_result"
    }
   ],
   "source": [
    "groups.mean()"
   ]
  },
  {
   "cell_type": "code",
   "execution_count": 39,
   "metadata": {},
   "outputs": [
    {
     "data": {
      "text/plain": [
       "t\n",
       "0.0     (0.0, 0.75]\n",
       "0.1     (0.0, 0.75]\n",
       "0.2     (0.0, 0.75]\n",
       "0.3     (0.75, 1.5]\n",
       "0.4    (-0.75, 0.0]\n",
       "0.5     (0.75, 1.5]\n",
       "0.6     (0.75, 1.5]\n",
       "0.7     (0.75, 1.5]\n",
       "0.8     (0.75, 1.5]\n",
       "0.9     (0.0, 0.75]\n",
       "Name: y, dtype: category\n",
       "Categories (3, interval[float64]): [(-0.75, 0.0] < (0.0, 0.75] < (0.75, 1.5]]"
      ]
     },
     "execution_count": 39,
     "metadata": {},
     "output_type": "execute_result"
    }
   ],
   "source": [
    "# can explicitly define bin edges\n",
    "bins = [-0.75, 0, 0.75, 1.5]\n",
    "pd.cut(df3.y, bins)\n",
    "\n",
    "# if a value does not lie in any of the bins, then will put NaN in the bin entry"
   ]
  },
  {
   "cell_type": "code",
   "execution_count": 40,
   "metadata": {},
   "outputs": [
    {
     "data": {
      "text/html": [
       "<div>\n",
       "<style scoped>\n",
       "    .dataframe tbody tr th:only-of-type {\n",
       "        vertical-align: middle;\n",
       "    }\n",
       "\n",
       "    .dataframe tbody tr th {\n",
       "        vertical-align: top;\n",
       "    }\n",
       "\n",
       "    .dataframe thead th {\n",
       "        text-align: right;\n",
       "    }\n",
       "</style>\n",
       "<table border=\"1\" class=\"dataframe\">\n",
       "  <thead>\n",
       "    <tr style=\"text-align: right;\">\n",
       "      <th></th>\n",
       "      <th>x</th>\n",
       "      <th>y</th>\n",
       "      <th>z</th>\n",
       "      <th>z2</th>\n",
       "    </tr>\n",
       "    <tr>\n",
       "      <th>y</th>\n",
       "      <th></th>\n",
       "      <th></th>\n",
       "      <th></th>\n",
       "      <th></th>\n",
       "    </tr>\n",
       "  </thead>\n",
       "  <tbody>\n",
       "    <tr>\n",
       "      <th>(-0.75, 0.0]</th>\n",
       "      <td>0.433169</td>\n",
       "      <td>-0.174312</td>\n",
       "      <td>-1.253546</td>\n",
       "      <td>1.571378</td>\n",
       "    </tr>\n",
       "    <tr>\n",
       "      <th>(0.0, 0.75]</th>\n",
       "      <td>0.354680</td>\n",
       "      <td>0.204195</td>\n",
       "      <td>0.594744</td>\n",
       "      <td>0.807377</td>\n",
       "    </tr>\n",
       "    <tr>\n",
       "      <th>(0.75, 1.5]</th>\n",
       "      <td>0.583081</td>\n",
       "      <td>1.064365</td>\n",
       "      <td>0.337812</td>\n",
       "      <td>0.287833</td>\n",
       "    </tr>\n",
       "  </tbody>\n",
       "</table>\n",
       "</div>"
      ],
      "text/plain": [
       "                     x         y         z        z2\n",
       "y                                                   \n",
       "(-0.75, 0.0]  0.433169 -0.174312 -1.253546  1.571378\n",
       "(0.0, 0.75]   0.354680  0.204195  0.594744  0.807377\n",
       "(0.75, 1.5]   0.583081  1.064365  0.337812  0.287833"
      ]
     },
     "execution_count": 40,
     "metadata": {},
     "output_type": "execute_result"
    }
   ],
   "source": [
    "groups = df3.groupby(pd.cut(df3.y, bins))\n",
    "groups.mean()"
   ]
  },
  {
   "cell_type": "markdown",
   "metadata": {},
   "source": [
    "## Reading and writing data\n",
    "Data     Reader     Writer\n",
    "CSV      read_csv   to_csv\n",
    "JSON     read_json  to_json\n",
    "HTML     read_html  to_html\n",
    "MS Excel read_excel to_excel\n",
    "HDF5     read_hdf   to_hdf\n",
    "SQL      read_sql   to_sql\n",
    "\n",
    "etc."
   ]
  },
  {
   "cell_type": "code",
   "execution_count": 43,
   "metadata": {},
   "outputs": [
    {
     "data": {
      "text/html": [
       "<div>\n",
       "<style scoped>\n",
       "    .dataframe tbody tr th:only-of-type {\n",
       "        vertical-align: middle;\n",
       "    }\n",
       "\n",
       "    .dataframe tbody tr th {\n",
       "        vertical-align: top;\n",
       "    }\n",
       "\n",
       "    .dataframe thead th {\n",
       "        text-align: right;\n",
       "    }\n",
       "</style>\n",
       "<table border=\"1\" class=\"dataframe\">\n",
       "  <thead>\n",
       "    <tr style=\"text-align: right;\">\n",
       "      <th></th>\n",
       "      <th>t</th>\n",
       "      <th>x</th>\n",
       "      <th>y</th>\n",
       "      <th>z</th>\n",
       "      <th>z2</th>\n",
       "    </tr>\n",
       "  </thead>\n",
       "  <tbody>\n",
       "    <tr>\n",
       "      <th>0</th>\n",
       "      <td>0.0</td>\n",
       "      <td>0.218046</td>\n",
       "      <td>0.127729</td>\n",
       "      <td>0.742420</td>\n",
       "      <td>0.551188</td>\n",
       "    </tr>\n",
       "    <tr>\n",
       "      <th>1</th>\n",
       "      <td>0.1</td>\n",
       "      <td>0.096169</td>\n",
       "      <td>0.381162</td>\n",
       "      <td>0.000000</td>\n",
       "      <td>0.000000</td>\n",
       "    </tr>\n",
       "    <tr>\n",
       "      <th>2</th>\n",
       "      <td>0.2</td>\n",
       "      <td>0.194856</td>\n",
       "      <td>0.251589</td>\n",
       "      <td>1.636558</td>\n",
       "      <td>2.678321</td>\n",
       "    </tr>\n",
       "    <tr>\n",
       "      <th>3</th>\n",
       "      <td>0.3</td>\n",
       "      <td>0.353908</td>\n",
       "      <td>1.029643</td>\n",
       "      <td>0.000000</td>\n",
       "      <td>0.000000</td>\n",
       "    </tr>\n",
       "    <tr>\n",
       "      <th>4</th>\n",
       "      <td>0.4</td>\n",
       "      <td>0.433169</td>\n",
       "      <td>-0.174312</td>\n",
       "      <td>-1.253546</td>\n",
       "      <td>1.571378</td>\n",
       "    </tr>\n",
       "    <tr>\n",
       "      <th>5</th>\n",
       "      <td>0.5</td>\n",
       "      <td>0.557287</td>\n",
       "      <td>1.203427</td>\n",
       "      <td>0.000000</td>\n",
       "      <td>0.000000</td>\n",
       "    </tr>\n",
       "    <tr>\n",
       "      <th>6</th>\n",
       "      <td>0.6</td>\n",
       "      <td>0.578677</td>\n",
       "      <td>1.023158</td>\n",
       "      <td>0.924216</td>\n",
       "      <td>0.854176</td>\n",
       "    </tr>\n",
       "    <tr>\n",
       "      <th>7</th>\n",
       "      <td>0.7</td>\n",
       "      <td>0.475248</td>\n",
       "      <td>1.088102</td>\n",
       "      <td>0.000000</td>\n",
       "      <td>0.000000</td>\n",
       "    </tr>\n",
       "    <tr>\n",
       "      <th>8</th>\n",
       "      <td>0.8</td>\n",
       "      <td>0.950288</td>\n",
       "      <td>0.977494</td>\n",
       "      <td>0.764846</td>\n",
       "      <td>0.584989</td>\n",
       "    </tr>\n",
       "    <tr>\n",
       "      <th>9</th>\n",
       "      <td>0.9</td>\n",
       "      <td>0.909651</td>\n",
       "      <td>0.056299</td>\n",
       "      <td>0.000000</td>\n",
       "      <td>0.000000</td>\n",
       "    </tr>\n",
       "  </tbody>\n",
       "</table>\n",
       "</div>"
      ],
      "text/plain": [
       "     t         x         y         z        z2\n",
       "0  0.0  0.218046  0.127729  0.742420  0.551188\n",
       "1  0.1  0.096169  0.381162  0.000000  0.000000\n",
       "2  0.2  0.194856  0.251589  1.636558  2.678321\n",
       "3  0.3  0.353908  1.029643  0.000000  0.000000\n",
       "4  0.4  0.433169 -0.174312 -1.253546  1.571378\n",
       "5  0.5  0.557287  1.203427  0.000000  0.000000\n",
       "6  0.6  0.578677  1.023158  0.924216  0.854176\n",
       "7  0.7  0.475248  1.088102  0.000000  0.000000\n",
       "8  0.8  0.950288  0.977494  0.764846  0.584989\n",
       "9  0.9  0.909651  0.056299  0.000000  0.000000"
      ]
     },
     "execution_count": 43,
     "metadata": {},
     "output_type": "execute_result"
    }
   ],
   "source": [
    "# write dataframe to CSV file\n",
    "df3.to_csv('test.csv')\n",
    "\n",
    "# read CSV file back in\n",
    "df4 = pd.read_csv('test.csv')\n",
    "df4"
   ]
  },
  {
   "cell_type": "markdown",
   "metadata": {},
   "source": [
    "### Read and write astronomical data formats via AstroPy"
   ]
  },
  {
   "cell_type": "code",
   "execution_count": 45,
   "metadata": {},
   "outputs": [],
   "source": [
    "from astropy.table import Table"
   ]
  },
  {
   "cell_type": "code",
   "execution_count": 47,
   "metadata": {},
   "outputs": [],
   "source": [
    "t = Table.from_pandas(df3)\n",
    "t.write('test.fits')\n",
    "t.write('test.tex')"
   ]
  },
  {
   "cell_type": "code",
   "execution_count": 48,
   "metadata": {},
   "outputs": [],
   "source": [
    "t = Table.read('test.fits')\n",
    "newdf = t.to_pandas()"
   ]
  },
  {
   "cell_type": "markdown",
   "metadata": {},
   "source": [
    "## Lots more functionality\n",
    "Time series (handling datas and times\n",
    " - arguments to ```read_*``` functions or try ```pd.to_datetime```\n",
    " - knows that dates occur in a certain order\n",
    " - e.g. can average over time period of one day\n",
    "\n",
    "Applying functions to columns, rows or groups\n",
    " - ```pd.transform```, ```pd.apply```,...\n",
    " \n",
    "Lots of examples on Stack Overflow, etc.\n",
    " - Prefer recent answers (a few years old likely to be out of date!)\n",
    " - Look at official documentation\n",
    "   - Very good\n",
    "   - Lots of tutorials"
   ]
  },
  {
   "cell_type": "markdown",
   "metadata": {},
   "source": [
    "# Dask"
   ]
  },
  {
   "cell_type": "markdown",
   "metadata": {},
   "source": [
    "Helpful when you have very large data sets\n",
    "\n",
    "Essentially, gives you numpy arrays, Scikit-learn API and DataFrames that run over multiple sources of memory"
   ]
  },
  {
   "cell_type": "code",
   "execution_count": 50,
   "metadata": {},
   "outputs": [
    {
     "data": {
      "text/plain": [
       "array([-0.04063767, -0.28439207, -0.08701761,  0.23108564,  0.38960763,\n",
       "        0.63784398,  0.68062327,  0.47376687,  1.42384541,  1.34257222])"
      ]
     },
     "execution_count": 50,
     "metadata": {},
     "output_type": "execute_result"
    }
   ],
   "source": [
    "# Arrays implement the Nimpy API\n",
    "import dask.array as da\n",
    "# see how it explicitly breaks into chunks\n",
    "a = da.random.random(size=(10000, 10000), chunks=(1000, 1000))\n",
    "x + x.T - x.mean(axis=0)"
   ]
  },
  {
   "cell_type": "markdown",
   "metadata": {},
   "source": [
    "See slides for Pandas API and Scikit-learn API (machine-learning methods)"
   ]
  },
  {
   "cell_type": "markdown",
   "metadata": {},
   "source": [
    "# Apache Spark (PySpark)\n",
    "Use when (planning to scale up to) using multiple machines\n",
    "- typically for dealing with very large datasets (larger than can be dealt with on a single computer)\n",
    "- distributed computing on a cluster of computers\n",
    "- need to setup infrastructure"
   ]
  },
  {
   "cell_type": "markdown",
   "metadata": {},
   "source": [
    "# PyTables / h5py\n",
    "Basically superseded by pandas and DASK\n",
    "\n",
    "- http://pytables.github.io\n",
    "- For creating, storing and analysing datasets\n",
    "    - from simple, small tables to complex, huge datasets\n",
    "    - standard HDF5 file format\n",
    "    - incredibly fast - even faster w/ indexing\n",
    "    - uses on the fly block compression\n",
    "    - designed for modern systems \n",
    "        - fast multi-code CPU; large, slow memory\n",
    "    - \"in kernel\" - data and algorithm are sent to CPU in optimal way\n",
    "    - \"out-of-core\" - avoids loading whole dataset into memory"
   ]
  },
  {
   "cell_type": "markdown",
   "metadata": {},
   "source": [
    "- Can store many things in one HDF5 file\n",
    "    - E.g. multiple tables, almost like a file system\n",
    "- Tree structure\n",
    "- Everything in a group\n",
    "- Data stored in leaves\n",
    "- Arrays (e.g. n-dimensional images)\n",
    "\n",
    "See slides for more"
   ]
  },
  {
   "cell_type": "markdown",
   "metadata": {},
   "source": [
    "# Multiprocessing\n",
    "\n",
    "Python includes modules for writing \"parallel\" programs:\n",
    "- threaded - limited by the Global interperter lock\n",
    "- multiprocessing - generally more useful"
   ]
  },
  {
   "cell_type": "code",
   "execution_count": 52,
   "metadata": {},
   "outputs": [
    {
     "name": "stdout",
     "output_type": "stream",
     "text": [
      "[0, 1, 4, 9, 16, 25, 36, 49, 64, 81]\n"
     ]
    }
   ],
   "source": [
    "from multiprocessing import Pool\n",
    "\n",
    "def f(x):\n",
    "    return x*x\n",
    "\n",
    "pool = Pool(processes=4) # start 4 worker processes\n",
    "\n",
    "z = range(10)\n",
    "print(pool.map(f, z)) # apply f to each element of z in parallel"
   ]
  }
 ],
 "metadata": {
  "kernelspec": {
   "display_name": "Python 3",
   "language": "python",
   "name": "python3"
  },
  "language_info": {
   "codemirror_mode": {
    "name": "ipython",
    "version": 3
   },
   "file_extension": ".py",
   "mimetype": "text/x-python",
   "name": "python",
   "nbconvert_exporter": "python",
   "pygments_lexer": "ipython3",
   "version": "3.8.3"
  }
 },
 "nbformat": 4,
 "nbformat_minor": 4
}
