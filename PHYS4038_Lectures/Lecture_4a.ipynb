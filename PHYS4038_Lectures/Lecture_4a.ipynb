{
 "cells": [
  {
   "cell_type": "markdown",
   "metadata": {},
   "source": [
    "Note: Normally, Python has to check the type of each Python entry. To do data analysis quickly, it is best to tell Python what sort of type each entry is, e.g. using numpy arrays"
   ]
  },
  {
   "cell_type": "code",
   "execution_count": 1,
   "metadata": {},
   "outputs": [
    {
     "name": "stdout",
     "output_type": "stream",
     "text": [
      "[[1 2 3]\n",
      " [3 6 9]\n",
      " [2 4 6]]\n"
     ]
    }
   ],
   "source": [
    "import numpy as np\n",
    "\n",
    "l = [[1, 2, 3], [3, 6, 9], [2, 4, 6]] # create a list\n",
    "a = np.array(l) # convert a list to an array\n",
    "print(a)"
   ]
  },
  {
   "cell_type": "code",
   "execution_count": 2,
   "metadata": {},
   "outputs": [
    {
     "data": {
      "text/plain": [
       "(3, 3)"
      ]
     },
     "execution_count": 2,
     "metadata": {},
     "output_type": "execute_result"
    }
   ],
   "source": [
    "a.shape"
   ]
  },
  {
   "cell_type": "code",
   "execution_count": 4,
   "metadata": {},
   "outputs": [
    {
     "name": "stdout",
     "output_type": "stream",
     "text": [
      "int64\n",
      "9\n",
      "[6 9]\n",
      "[2 6 4]\n"
     ]
    }
   ],
   "source": [
    "print(a.dtype) # get type of an array \n",
    "\n",
    "print(a[1,2]) # arrays can be given comma-separated indices\n",
    "\n",
    "print(a[1, 1:3]) # and sliced\n",
    "print(a[:, 1])"
   ]
  },
  {
   "cell_type": "code",
   "execution_count": 5,
   "metadata": {},
   "outputs": [
    {
     "name": "stdout",
     "output_type": "stream",
     "text": [
      "[[0 2 3]\n",
      " [9 6 9]\n",
      " [8 4 6]]\n"
     ]
    }
   ],
   "source": [
    "# can assign values, e.g.\n",
    "a[:, 0] = [0, 9, 8]\n",
    "print(a)"
   ]
  },
  {
   "cell_type": "code",
   "execution_count": 6,
   "metadata": {},
   "outputs": [
    {
     "data": {
      "text/plain": [
       "dtype('int64')"
      ]
     },
     "execution_count": 6,
     "metadata": {},
     "output_type": "execute_result"
    }
   ],
   "source": [
    "# specify you want an array of zeros as an integer\n",
    "n = 1000\n",
    "my_int_array = np.zeros(n, dtype=np.int)\n",
    "my_int_array.dtype"
   ]
  },
  {
   "cell_type": "code",
   "execution_count": 7,
   "metadata": {},
   "outputs": [
    {
     "name": "stdout",
     "output_type": "stream",
     "text": [
      "[0. 1. 2. 3. 4.]\n"
     ]
    }
   ],
   "source": [
    "# specify you want arange as being floats\n",
    "d = np.arange(5, dtype=np.float)\n",
    "print(d)"
   ]
  },
  {
   "cell_type": "code",
   "execution_count": 8,
   "metadata": {},
   "outputs": [
    {
     "name": "stdout",
     "output_type": "stream",
     "text": [
      "[105 125 150 175 195]\n"
     ]
    }
   ],
   "source": [
    "arr = np.arange(100, 200)\n",
    "select = [5, 25, 50, 75, -5]\n",
    "print(arr[select]) # can use integer array as indices"
   ]
  },
  {
   "cell_type": "code",
   "execution_count": 12,
   "metadata": {},
   "outputs": [
    {
     "name": "stdout",
     "output_type": "stream",
     "text": [
      "[False False  True False False  True False False  True False]\n",
      "[12 15 18]\n"
     ]
    }
   ],
   "source": [
    "arr = np.arange(10, 20)\n",
    "div_by_3 = arr%3 == 0 #comparison produces boolean array\n",
    "print(div_by_3)\n",
    "\n",
    "# can use boolean lists as indices\n",
    "print(arr[div_by_3])"
   ]
  },
  {
   "cell_type": "code",
   "execution_count": 14,
   "metadata": {},
   "outputs": [
    {
     "name": "stdout",
     "output_type": "stream",
     "text": [
      "[0. 1. 2. 3.]\n",
      "[ 0.  23.4 46.8 70.2]\n",
      "[ 0.   11.7  15.6  17.55]\n"
     ]
    }
   ],
   "source": [
    "# Can divide by arrays\n",
    "a = np.arange(4.0)\n",
    "print(a)\n",
    "b = a * 23.4\n",
    "print(b)\n",
    "c = b/(a+1)\n",
    "print(c)"
   ]
  },
  {
   "cell_type": "markdown",
   "metadata": {},
   "source": [
    "### Going between arrays of different dimensions"
   ]
  },
  {
   "cell_type": "code",
   "execution_count": 19,
   "metadata": {},
   "outputs": [
    {
     "name": "stdout",
     "output_type": "stream",
     "text": [
      "[10 11 12 13 14 15 16 17 18 19]\n",
      "[[11 12 13]\n",
      " [14 15 16]\n",
      " [17 18 19]]\n",
      "[[False  True False]\n",
      " [False False False]\n",
      " [False  True False]]\n",
      "(array([0, 2]), array([1, 1]))\n"
     ]
    }
   ],
   "source": [
    "print(arr)\n",
    "\n",
    "b = arr[1:].reshape((3,3)) #the [1:] removes first of the 10 elements\n",
    "print(b)\n",
    "\n",
    "b_2 = b%2 == 0\n",
    "b_3 = b%3 == 0\n",
    "b_2_3 = b_2 & b_3 # true when divisible by both 2 and 3\n",
    "print(b_2_3)\n",
    "\n",
    "i_2_3 = b_2_3.nonzero() # select array elements with boolean arrays\n",
    "print(i_2_3)\n",
    "\n",
    "# [0, 2] gives the indices of the first dimension\n",
    "# [1, 1] gives the indices of the second dimension\n",
    "# In b, 12 is at [0, 1], 18 is at [2, 1]"
   ]
  },
  {
   "cell_type": "markdown",
   "metadata": {},
   "source": [
    "### Other methods"
   ]
  },
  {
   "cell_type": "code",
   "execution_count": 22,
   "metadata": {},
   "outputs": [
    {
     "name": "stdout",
     "output_type": "stream",
     "text": [
      "145\n",
      "14.5\n",
      "2.8722813232690143\n",
      "19\n",
      "10\n"
     ]
    }
   ],
   "source": [
    "print(arr.sum()) # sum\n",
    "print(arr.mean()) # mean\n",
    "print(arr.std()) # standard deviation\n",
    "print(arr.max()) # max value\n",
    "print(arr.min()) # min value"
   ]
  },
  {
   "cell_type": "code",
   "execution_count": 24,
   "metadata": {},
   "outputs": [
    {
     "name": "stdout",
     "output_type": "stream",
     "text": [
      "False\n",
      "True\n",
      "3\n",
      "(array([2, 5, 8]),)\n"
     ]
    }
   ],
   "source": [
    "print(div_by_3.all())\n",
    "print(div_by_3.any())\n",
    "print(div_by_3.sum())\n",
    "print(div_by_3.nonzero())  # note singleton tuple returned\n",
    "                            # for consistency with N-dim case"
   ]
  },
  {
   "cell_type": "markdown",
   "metadata": {},
   "source": [
    "### Sorting"
   ]
  },
  {
   "cell_type": "code",
   "execution_count": 28,
   "metadata": {},
   "outputs": [
    {
     "name": "stdout",
     "output_type": "stream",
     "text": [
      "[4.5 2.3 6.7 1.2 1.8 1.5]\n",
      "[1.2 1.5 1.8 2.3 4.5 6.7]\n",
      "[4.5 2.3 6.7 1.2 1.8 1.5]\n",
      "[3 5 4 1 0 2]\n",
      "[1.2 1.5 1.8 2.3 4.5 6.7]\n",
      "[4.5 2.3 6.7 1.2 1.8 1.5]\n"
     ]
    }
   ],
   "source": [
    "# .sort() is a method, so it acts on the array itself\n",
    "arr = np.array([4.5, 2.3, 6.7, 1.2, 1.8, 1.5])\n",
    "print(arr)\n",
    "arr.sort()\n",
    "print(arr)\n",
    "\n",
    "# .argsort() gives the indices of the sorted array\n",
    "x = np.array([4.5, 2.3, 6.7, 1.2, 1.8, 1.5])\n",
    "print(x)\n",
    "s = x.argsort()\n",
    "print(s)\n",
    "# x[s] is a sorted copy of x\n",
    "print(x[s])\n",
    "# x is unchanged\n",
    "print(x)"
   ]
  },
  {
   "cell_type": "markdown",
   "metadata": {},
   "source": [
    "## Matrices"
   ]
  },
  {
   "cell_type": "code",
   "execution_count": 32,
   "metadata": {},
   "outputs": [
    {
     "name": "stdout",
     "output_type": "stream",
     "text": [
      "[[4 1]\n",
      " [2 2]]\n",
      "[[4 1]\n",
      " [2 2]]\n",
      "[1 2]\n",
      "[[4 2]\n",
      " [1 2]]\n",
      "6.0\n",
      "(array([4.73205081, 1.26794919]), array([[ 0.80689822, -0.34372377],\n",
      "       [ 0.59069049,  0.9390708 ]]))\n"
     ]
    }
   ],
   "source": [
    "# Can use regular numpy arrays as matrices and vectors\n",
    "\n",
    "a = np.array([[1, 0],\n",
    "             [0, 1]])\n",
    "b = np.array([[4, 1],\n",
    "             [2, 2]])\n",
    "c = np.array([1, 2])\n",
    "\n",
    "# Multiplying matrices\n",
    "print(np.matmul(a, b))\n",
    "print(a @ b)\n",
    "print(a @ c)\n",
    "\n",
    "# Transpose - capital T\n",
    "print(b.T)\n",
    "\n",
    "# Determinant\n",
    "print(np.linalg.det(b))\n",
    "\n",
    "# Print eigenvectors\n",
    "print(np.linalg.eig(b))"
   ]
  },
  {
   "cell_type": "markdown",
   "metadata": {},
   "source": [
    "## Array functions (not methods)"
   ]
  },
  {
   "cell_type": "code",
   "execution_count": 34,
   "metadata": {},
   "outputs": [
    {
     "name": "stdout",
     "output_type": "stream",
     "text": [
      "18.0\n",
      "18.0\n",
      "[23  7 80] [ 7 23 80]\n"
     ]
    }
   ],
   "source": [
    "# Most array methods have a function version, e.g.\n",
    "print(arr.sum())\n",
    "print(np.sum(arr))\n",
    "\n",
    "# Array functions often return a rsult, leaving the array unchanged\n",
    "# Array methods often perform the operation in-place\n",
    "a = np.array([23, 7, 80])\n",
    "s = np.sort(a)\n",
    "\n",
    "print(a, s)\n",
    "\n",
    "a.sort()\n",
    "print(a)"
   ]
  },
  {
   "cell_type": "code",
   "execution_count": 37,
   "metadata": {},
   "outputs": [
    {
     "name": "stdout",
     "output_type": "stream",
     "text": [
      "135\n",
      "[48 45 42]\n",
      "[54 45 36]\n",
      "[[17 18 19]\n",
      " [14 15 16]\n",
      " [11 12 13]]\n",
      "[[13 12 11]\n",
      " [16 15 14]\n",
      " [19 18 17]]\n"
     ]
    }
   ],
   "source": [
    "# Many array functions can take an axis, with the operation only\n",
    "# applied along that one direction in the array\n",
    "a = np.array([[19, 18, 17],\n",
    "              [16, 15, 14],\n",
    "              [13, 12, 11]])\n",
    "print(a.sum())\n",
    "print(a.sum(axis=0)) # sum down columns (first index varies)\n",
    "print(a.sum(axis=1)) # sum down rows (second index varies)\n",
    "\n",
    "print(np.sort(a)) # by default, sorts along rows\n",
    "print(np.sort(a, axis=0)) # sorts down the columns"
   ]
  },
  {
   "cell_type": "markdown",
   "metadata": {},
   "source": [
    "## Random numbers"
   ]
  },
  {
   "cell_type": "code",
   "execution_count": 41,
   "metadata": {},
   "outputs": [
    {
     "name": "stdout",
     "output_type": "stream",
     "text": [
      "0.9296160928171479\n",
      "[-0.36724889 -0.63216238 -0.59087944]\n",
      "3.0139425563996376 1.3635966442456968\n",
      "(1024, 1024) 123.0230770111084 122.99512823341865\n"
     ]
    }
   ],
   "source": [
    "np.random.seed(12345)\n",
    "print(np.random.uniform())\n",
    "\n",
    "print(np.random.uniform(-1, 1, 3))\n",
    "\n",
    "r = np.random.normal(loc=3.0, scale=1.3, size=100)\n",
    "print(r.mean(), r.std())\n",
    "\n",
    "p = np.random.poisson(123, size=(1024, 1024))\n",
    "print(p.shape, p.mean(), p.std()**2)"
   ]
  },
  {
   "cell_type": "markdown",
   "metadata": {},
   "source": [
    "## Numpy - recarray\n",
    "\n",
    "Array usually have a homogeneous type, but different type arrays can be combined - with a recarray\n",
    "\n",
    "Better to use Pandas or Astropy tables (see later)"
   ]
  },
  {
   "cell_type": "code",
   "execution_count": 42,
   "metadata": {},
   "outputs": [
    {
     "name": "stdout",
     "output_type": "stream",
     "text": [
      "[ 0  1  2  3  4  5  6  7  8  9 10 11 12 13 14 15 16 17 18 19 20 21 22 23\n",
      " 24 25 26 27 28 29 30 31 32 33 34 35 36 37 38 39 40 41 42 43 44 45 46 47\n",
      " 48 49 50 51 52 53 54 55 56 57 58 59 60 61 62 63 64 65 66 67 68 69 70 71\n",
      " 72 73 74 75 76 77 78 79 80 81 82 83 84 85 86 87 88 89 90 91 92 93 94 95\n",
      " 96 97 98 99]\n",
      "[0.         1.         1.41421356 1.73205081 2.         2.23606798\n",
      " 2.44948974 2.64575131 2.82842712 3.         3.16227766 3.31662479\n",
      " 3.46410162 3.60555128 3.74165739 3.87298335 4.         4.12310563\n",
      " 4.24264069 4.35889894 4.47213595 4.58257569 4.69041576 4.79583152\n",
      " 4.89897949 5.         5.09901951 5.19615242 5.29150262 5.38516481\n",
      " 5.47722558 5.56776436 5.65685425 5.74456265 5.83095189 5.91607978\n",
      " 6.         6.08276253 6.164414   6.244998   6.32455532 6.40312424\n",
      " 6.4807407  6.55743852 6.63324958 6.70820393 6.78232998 6.8556546\n",
      " 6.92820323 7.         7.07106781 7.14142843 7.21110255 7.28010989\n",
      " 7.34846923 7.41619849 7.48331477 7.54983444 7.61577311 7.68114575\n",
      " 7.74596669 7.81024968 7.87400787 7.93725393 8.         8.06225775\n",
      " 8.1240384  8.18535277 8.24621125 8.30662386 8.36660027 8.42614977\n",
      " 8.48528137 8.54400375 8.60232527 8.66025404 8.71779789 8.77496439\n",
      " 8.83176087 8.88819442 8.94427191 9.         9.05538514 9.11043358\n",
      " 9.16515139 9.21954446 9.2736185  9.32737905 9.38083152 9.43398113\n",
      " 9.48683298 9.53939201 9.59166305 9.64365076 9.69535971 9.74679434\n",
      " 9.79795897 9.8488578  9.89949494 9.94987437]\n",
      "[0 1 1 1 2 2 2 2 2 3 3 3 3 3 3 3 4 4 4 4 4 4 4 4 4 5 5 5 5 5 5 5 5 5 5 5 6\n",
      " 6 6 6 6 6 6 6 6 6 6 6 6 7 7 7 7 7 7 7 7 7 7 7 7 7 7 7 8 8 8 8 8 8 8 8 8 8\n",
      " 8 8 8 8 8 8 8 9 9 9 9 9 9 9 9 9 9 9 9 9 9 9 9 9 9 9]\n"
     ]
    }
   ],
   "source": [
    "x = np.arange(0,100)\n",
    "y = np.sqrt(x)\n",
    "z = y.astype(np.int)\n",
    "r = np.rec.array((x,y,z), names=('x', 'y', 'z'))\n",
    "print(r.x)\n",
    "print(r.y)\n",
    "print(r.z)"
   ]
  },
  {
   "cell_type": "markdown",
   "metadata": {},
   "source": [
    "## Numpy - loading and saving data\n",
    "Again, better ways to do this than using Numpy - better to use Pandas or Astropy"
   ]
  },
  {
   "cell_type": "code",
   "execution_count": null,
   "metadata": {},
   "outputs": [],
   "source": [
    "np.savetxt('mydata', r, fmt=\"%6i %12.6f %6i\")\n",
    "data = np.genfromtxt('mydata') # reads a 2d array\n",
    "data = np.recfromtxt('myfile.txt', names=('x', 'y', 'z'))\n",
    "\n",
    "# other recfrom[***] exist, e.g. recfromcsv for .csv files"
   ]
  },
  {
   "cell_type": "markdown",
   "metadata": {},
   "source": [
    "# Numpy - using arrays wisely\n",
    "- Array operations are implemented in C or Fortran\n",
    "    - Optimised algorithms (i.e. fast!)\n",
    "- Python loops (i.e. for i in a:) are much slower\n",
    "    - Don't use loops if possibly, use array operations\n",
    "- Also produces shorter code, often much more readable\n",
    "\n",
    "By default, Numpy arrays are loaded into your RAM. If you are using very large data sets, you may hit the RAM limit of your computer. \n",
    "\n",
    "\n",
    "## Saving memory\n",
    "\n",
    "Save memory by using lower precision where possible\n",
    "\n",
    "```python \n",
    "d = np.arange(10000000, dtype=np.int32) # default is 64-bit integer\n",
    "                                        # unnecessary for 8-digit \n",
    "                                        # numbers\n",
    "d = np.arange(1e8, dtype=np.float32)\n",
    "```\n",
    "\n",
    "Save memory by performing operations in place where possible\n",
    "```python\n",
    "a = np.arange(10000000) # 1e8 * 64 / 8 ~800Mb\n",
    "b = np.random.normal(0, 1000, 10000000) # also ~800Mb\n",
    "a = a + b # requires an additional 800Mb memory\n",
    "a += b # in place: no more memory required and faster\n",
    "a = np.sqrt(a) # requires extra 800Mb memory\n",
    "np.sqrt(a, out=a) # in place: no more memory required\n",
    "```\n",
    "\n",
    "Use sparse arrays (provided by SciPy, see later)\n",
    "Use a solution which keep sdata on disk (np.memmap, PyTables)\n",
    "Change your algorithm"
   ]
  },
  {
   "cell_type": "code",
   "execution_count": null,
   "metadata": {},
   "outputs": [],
   "source": []
  }
 ],
 "metadata": {
  "kernelspec": {
   "display_name": "Python 3",
   "language": "python",
   "name": "python3"
  },
  "language_info": {
   "codemirror_mode": {
    "name": "ipython",
    "version": 3
   },
   "file_extension": ".py",
   "mimetype": "text/x-python",
   "name": "python",
   "nbconvert_exporter": "python",
   "pygments_lexer": "ipython3",
   "version": "3.8.3"
  }
 },
 "nbformat": 4,
 "nbformat_minor": 4
}
