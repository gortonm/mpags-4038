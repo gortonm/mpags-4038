{
 "cells": [
  {
   "cell_type": "code",
   "execution_count": 20,
   "metadata": {},
   "outputs": [
    {
     "name": "stdout",
     "output_type": "stream",
     "text": [
      "Using matplotlib backend: Qt5Agg\n"
     ]
    }
   ],
   "source": [
    "%matplotlib\n",
    "%matplotlib inline"
   ]
  },
  {
   "cell_type": "code",
   "execution_count": 3,
   "metadata": {},
   "outputs": [],
   "source": [
    "import numpy as np\n",
    "import matplotlib.pyplot as plt"
   ]
  },
  {
   "cell_type": "code",
   "execution_count": 11,
   "metadata": {},
   "outputs": [
    {
     "name": "stdout",
     "output_type": "stream",
     "text": [
      "-2.9400000000000013\n"
     ]
    }
   ],
   "source": [
    "# Exercise 1\n",
    "eps = 10e-6\n",
    "x = np.arange(-3., 3. + eps, 0.01)"
   ]
  },
  {
   "cell_type": "code",
   "execution_count": 12,
   "metadata": {},
   "outputs": [],
   "source": [
    "# Exercise 2\n",
    "def gauss(x):\n",
    "    return np.exp(-x**2/2) / np.sqrt(2*np.pi)\n",
    "\n",
    "y = gauss(x)"
   ]
  },
  {
   "cell_type": "code",
   "execution_count": 13,
   "metadata": {},
   "outputs": [
    {
     "name": "stdout",
     "output_type": "stream",
     "text": [
      "0.9973443008306754\n"
     ]
    }
   ],
   "source": [
    "# Exercise 3\n",
    "print(np.sum(y)*0.01)"
   ]
  },
  {
   "cell_type": "code",
   "execution_count": 14,
   "metadata": {},
   "outputs": [],
   "source": [
    "# Exercise 4\n",
    "r = np.rec.array((x,y), names=('x', 'y'))\n",
    "np.savetxt('exercise_data', r, fmt=\"%6i %12.6f\")"
   ]
  },
  {
   "cell_type": "code",
   "execution_count": 18,
   "metadata": {},
   "outputs": [],
   "source": [
    "# Exercise 5\n",
    "g = np.random.normal(loc=0., scale=1, size=100)"
   ]
  },
  {
   "cell_type": "code",
   "execution_count": 42,
   "metadata": {},
   "outputs": [
    {
     "data": {
      "image/png": "[encoded data removed]",
      "text/plain": [
       "<Figure size 432x288 with 1 Axes>"
      ]
     },
     "metadata": {
      "needs_background": "light"
     },
     "output_type": "display_data"
    }
   ],
   "source": [
    "# Exercise 6\n",
    "plt.plot(x, y, linestyle=':', color='k')\n",
    "plt.xlabel('$x$', fontname='DejaVu Serif', fontsize=14)\n",
    "plt.ylabel('$y$', fontname='DejaVu Serif', fontsize=14)\n",
    "plt.draw()\n",
    "\n",
    "# Exercise 7\n",
    "plt.hist(g, density=True, histtype='stepfilled', alpha=0.2)\n",
    "plt.draw()\n",
    "\n",
    "# Exercise 8\n",
    "h = np.random.normal(loc=0., scale=1, size=100)\n",
    "plt.hist(h, density=True, histtype='stepfilled', alpha=0.5)\n",
    "plt.draw()\n"
   ]
  },
  {
   "cell_type": "code",
   "execution_count": null,
   "metadata": {},
   "outputs": [],
   "source": []
  }
 ],
 "metadata": {
  "kernelspec": {
   "display_name": "Python 3",
   "language": "python",
   "name": "python3"
  },
  "language_info": {
   "codemirror_mode": {
    "name": "ipython",
    "version": 3
   },
   "file_extension": ".py",
   "mimetype": "text/x-python",
   "name": "python",
   "nbconvert_exporter": "python",
   "pygments_lexer": "ipython3",
   "version": "3.8.3"
  }
 },
 "nbformat": 4,
 "nbformat_minor": 4
}
