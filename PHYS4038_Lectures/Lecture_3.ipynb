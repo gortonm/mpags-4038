{
 "cells": [
  {
   "cell_type": "markdown",
   "metadata": {},
   "source": [
    "# Managing your environment\n",
    "\n",
    "Issue: Python is constantly being updated, modules keep changing\n",
    "\n",
    "A solution: \n",
    "-Maintain (or have option to create) seprate environments (or manifests) for different projects\n",
    "-use conda or pip\n",
    "\n",
    "\n",
    "# conda\n",
    "-installs modules\n",
    "    -automatically manages dependencies and compatibilities\n",
    "    -conda can install binaries, and isn't just for Python\n",
    "    -can use pip within a conda environment (but try conda first)\n",
    "-can create and switch between environments\n",
    "    -end up with specific collections of compatible modules and executables for      each project\n",
    "-maintains the history of your environment, so can go back to a previous environment state"
   ]
  },
  {
   "cell_type": "markdown",
   "metadata": {},
   "source": [
    "# conda basic usage\n",
    "\n",
    "conda create -n python_course # create environment (-n <name> or -p <path>)\n",
    "conda activate python_course # activate environment (<name> or <path>)\n",
    "conda install scipy matplotlib # choose modules to use in environment\n",
    "ipython # use the environment\n",
    "    \n",
    "    ***do stuff***\n",
    "    \n",
    "conda deactivate # go back to using regular Python installation"
   ]
  },
  {
   "cell_type": "markdown",
   "metadata": {},
   "source": [
    "# saving environment\n",
    "\n",
    "To use on a nother machine or to distribute\n",
    "\n",
    "    conda env export -n python_course > environment.yml   # export environment\n",
    "    conda create -n new_env -f environment.yml  # create environment file, with     all the modules that you have used in your project\n",
    "\n",
    "\n",
    "File (envrionment.yml) looks like:\n",
    "\n",
    "    name: myenv\n",
    "    dependencies:\n",
    "        - python\n",
    "        - numpy\n",
    "        - matplotlib\n",
    "\n",
    "\n",
    "Might be neater to manually maintain your own environment.yml file\n",
    "\n",
    "\n",
    "To make your environment match an environment.yml file\n",
    "    \n",
    "    conda env update -n myenv -f myenv.yml --prune\n",
    "   "
   ]
  },
  {
   "cell_type": "markdown",
   "metadata": {},
   "source": [
    "# Not using conda - virtualenv\n",
    "\n",
    "Install as follows:\n",
    "\n",
    "    pip install virtualenv    # install virtualenv\n",
    "    virtualenv ENV            # create a new environment ENV1\n",
    "    source ENV/bin/activate   # set PATH to our environment\n",
    "    (ENV1)$ pip install emcee # install modules into ENV1\n",
    "    (ENV1)$ pip install numpy==1.8.2 # install specific version of numpy\n",
    "    (ENV1)$ python            # use our custom environment\n",
    "    (ENV1)$ deactivate        # return our PATH to normal\n",
    "    \n",
    "Can record current state of modules to a 'requirements' file\n",
    "\n",
    "    (ENV1)$ pip freeze > requirements.txt\n",
    "    $ cat requirements.txt\n",
    "    emcee==2.1.0\n",
    "    numpy==1.8.2\n",
    "    $ deactivate\n",
    "    $ virtualenv ENV2    # create new environment\n",
    "    $ sourceENV2/bin/activate\n",
    "    (ENV2)$ pip install -r requirements.txt # install same modules into ENV1\n"
   ]
  },
  {
   "cell_type": "markdown",
   "metadata": {},
   "source": [
    "# Updating modules\n",
    "In conda:\n",
    "\n",
    "    $ conda update --all          # update all modules\n",
    "    $ conda update scipy emcee    # update a specific module\n",
    "    \n",
    "In pip:\n",
    "\n",
    "    $ pip install --upgrade\n",
    "    $ pip install --upgrade scipy emcee"
   ]
  },
  {
   "cell_type": "markdown",
   "metadata": {},
   "source": [
    "# Jupyter kernel discovery\n",
    "Can install and run Jupyter noteboo, but better to run from base environment and then select kernel within notebook\n",
    "\n",
    "Jupyter can autodiscover conda environment\n",
    "\n",
    "Just need to install nb_"
   ]
  }
 ],
 "metadata": {
  "kernelspec": {
   "display_name": "Python 3",
   "language": "python",
   "name": "python3"
  },
  "language_info": {
   "codemirror_mode": {
    "name": "ipython",
    "version": 3
   },
   "file_extension": ".py",
   "mimetype": "text/x-python",
   "name": "python",
   "nbconvert_exporter": "python",
   "pygments_lexer": "ipython3",
   "version": "3.8.3"
  }
 },
 "nbformat": 4,
 "nbformat_minor": 4
}
