{
 "cells": [
  {
   "cell_type": "code",
   "execution_count": 7,
   "metadata": {},
   "outputs": [
    {
     "data": {
      "text/plain": [
       "[True, True, True, True, True]"
      ]
     },
     "execution_count": 7,
     "metadata": {},
     "output_type": "execute_result"
    }
   ],
   "source": [
    "import math\n",
    "\n",
    "# Question 1\n",
    "\n",
    "# Introduce a tolerance\n",
    "eps = 1e-6\n",
    "\n",
    "numbers_list = (0., 2., 4., 6., 8.)\n",
    "booleans_list = [True for i in numbers_list \n",
    "                 if abs(math.cosh(i)**2 - math.sinh(i)**2 - 1) < eps ]\n",
    "booleans_list"
   ]
  },
  {
   "cell_type": "code",
   "execution_count": 9,
   "metadata": {},
   "outputs": [
    {
     "name": "stdout",
     "output_type": "stream",
     "text": [
      "[0, 3]\n",
      "[]\n",
      "Help on function f in module __main__:\n",
      "\n",
      "f(x, n)\n",
      "    Test which elements of x are divisible by n.\n",
      "    \n",
      "    For example:\n",
      "    >>> f([5,7,11,15], 5)\n",
      "    [0, 3]\n",
      "    \n",
      "        Returns index of elements of x divisble by n\n",
      "\n"
     ]
    }
   ],
   "source": [
    "# Question 2\n",
    "def f(x, n):\n",
    "    \"\"\"Test which elements of x are divisible by n.\n",
    "    \n",
    "    For example:\n",
    "    >>> f([5,7,11,15], 5)\n",
    "    [0, 3]\n",
    "\n",
    "        Returns index of elements of x divisble by n\n",
    "    \"\"\"\n",
    "    indices = []\n",
    "    eps = 1e-6\n",
    "    for i in range(len(x)):\n",
    "        if abs(x[i] % n) < eps:\n",
    "            indices.append(i)\n",
    "    return indices\n",
    "\n",
    "# NOTE: enumerate gives the number and its index, so could write\n",
    "# for i, m in enumerate(x):\n",
    "#   if m%n < eps:\n",
    "#       indices.append(i)\n",
    "\n",
    "# Check function in question 5 works\n",
    "numbers = [5,7,11,15]\n",
    "print(f(numbers, 5))\n",
    "print(f(numbers, 9.25))\n",
    "\n",
    "\"\"\"These comments are documentation\"\"\"\n",
    "\n",
    "help(f)"
   ]
  },
  {
   "cell_type": "code",
   "execution_count": 23,
   "metadata": {},
   "outputs": [
    {
     "name": "stdout",
     "output_type": "stream",
     "text": [
      "5\n",
      "<class 'float'>\n",
      "0.0\n",
      "7\n",
      "<class 'float'>\n",
      "2.0\n",
      "11\n",
      "<class 'float'>\n",
      "1.0\n",
      "15\n",
      "<class 'float'>\n",
      "0.0\n",
      "[1, 4]\n"
     ]
    }
   ],
   "source": [
    "# Question 3\n",
    "def f(filename, n):\n",
    "    \"\"\"Test which elements in a file with name filename are divisible by n.\n",
    "\n",
    "        Returns entries in a file that are divisble by n\n",
    "    \"\"\"\n",
    "    # line number\n",
    "    i = 1\n",
    "    \n",
    "    indices = []\n",
    "    eps = 1e-6\n",
    "    \n",
    "    with open(filename, 'r') as file:        \n",
    "        for l in file:\n",
    "            \n",
    "            #print(l.split()[0])\n",
    "            #print(type(float(l.split()[0])))\n",
    "            #print(abs( float( l.split()[0] ) % n ))\n",
    "            \n",
    "            if abs( float( l.split()[0] ) % n ) < eps:\n",
    "                indices.append(i)\n",
    "            \n",
    "            i += 1\n",
    "\n",
    "    return indices\n",
    "\n",
    "# Check function in question 5 works\n",
    "print(f('numbers.txt', 5))\n"
   ]
  },
  {
   "cell_type": "code",
   "execution_count": 24,
   "metadata": {},
   "outputs": [
    {
     "ename": "TypeError",
     "evalue": "tuple expected at most 1 argument, got 3",
     "output_type": "error",
     "traceback": [
      "\u001b[1;31m---------------------------------------------------------------------------\u001b[0m",
      "\u001b[1;31mTypeError\u001b[0m                                 Traceback (most recent call last)",
      "\u001b[1;32m<ipython-input-24-1013a9f12379>\u001b[0m in \u001b[0;36m<module>\u001b[1;34m\u001b[0m\n\u001b[0;32m      1\u001b[0m \u001b[1;31m# Question 4\u001b[0m\u001b[1;33m\u001b[0m\u001b[1;33m\u001b[0m\u001b[1;33m\u001b[0m\u001b[0m\n\u001b[0;32m      2\u001b[0m \u001b[1;33m\u001b[0m\u001b[0m\n\u001b[1;32m----> 3\u001b[1;33m \u001b[1;32mclass\u001b[0m \u001b[0mFindDivisible\u001b[0m\u001b[1;33m(\u001b[0m\u001b[0mlist\u001b[0m\u001b[1;33m)\u001b[0m\u001b[1;33m:\u001b[0m\u001b[1;33m\u001b[0m\u001b[1;33m\u001b[0m\u001b[0m\n\u001b[0m\u001b[0;32m      4\u001b[0m     \u001b[1;32mdef\u001b[0m \u001b[0m__init__\u001b[0m\u001b[1;33m(\u001b[0m\u001b[0mself\u001b[0m\u001b[1;33m)\u001b[0m\u001b[1;33m:\u001b[0m\u001b[1;33m\u001b[0m\u001b[1;33m\u001b[0m\u001b[0m\n\u001b[0;32m      5\u001b[0m         \u001b[0mself\u001b[0m\u001b[1;33m.\u001b[0m\u001b[0mlist\u001b[0m \u001b[1;33m=\u001b[0m \u001b[0mlist\u001b[0m\u001b[1;33m\u001b[0m\u001b[1;33m\u001b[0m\u001b[0m\n",
      "\u001b[1;31mTypeError\u001b[0m: tuple expected at most 1 argument, got 3"
     ]
    }
   ],
   "source": [
    "# Question 4\n",
    "\n",
    "class FindDivisible(list):\n",
    "    def __init__(self, list=[]):\n",
    "        self.list = list\n",
    "    \n",
    "    def f(self, n):\n",
    "        \"\"\"Test which elements of x are divisible by n.\n",
    "\n",
    "        For example:\n",
    "        >>> f([5,7,11,15], 5)\n",
    "        [0, 3]\n",
    "\n",
    "            Returns index of elements of x divisble by n\n",
    "        \"\"\"\n",
    "        indices = []\n",
    "        eps = 1e-6\n",
    "        \"\"\"\n",
    "        for i in range(len(self.list)):\n",
    "            if abs(self.list[i] % n) < eps:\n",
    "                indices.append(i)\n",
    "        \"\"\"   \n",
    "        for i, m in enumerate(self.list):\n",
    "            if abs(m%n) < eps:\n",
    "                  indices.append(i)\n",
    "        return indices\n",
    "\n",
    "# NOTE: enumerate gives the number and its index, so could write\n",
    "# for i, m in enumerate(x):\n",
    "#   if m%n < eps:\n",
    "#       indices.append(i)\n",
    "\n",
    "# Check function in question 5 works\n",
    "instance = FindDivisible(numbers)\n",
    "numbers = [5,7,11,15]\n",
    "print(f(numbers, 5))\n",
    "print(f(numbers, 9.25))\n",
    "\n",
    "\"\"\"These comments are documentation\"\"\"\n",
    "\n",
    "help(f)"
   ]
  }
 ],
 "metadata": {
  "kernelspec": {
   "display_name": "Python 3",
   "language": "python",
   "name": "python3"
  },
  "language_info": {
   "codemirror_mode": {
    "name": "ipython",
    "version": 3
   },
   "file_extension": ".py",
   "mimetype": "text/x-python",
   "name": "python",
   "nbconvert_exporter": "python",
   "pygments_lexer": "ipython3",
   "version": "3.8.3"
  }
 },
 "nbformat": 4,
 "nbformat_minor": 4
}
