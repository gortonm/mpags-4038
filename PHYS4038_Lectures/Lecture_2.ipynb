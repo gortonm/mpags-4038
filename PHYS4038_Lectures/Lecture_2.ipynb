{
 "cells": [
  {
   "cell_type": "code",
   "execution_count": 2,
   "metadata": {},
   "outputs": [
    {
     "name": "stdout",
     "output_type": "stream",
     "text": [
      "['banana', 'nectarine', 'passionfruit']\n",
      "['banana', 'nectarine', 'passionfruit']\n"
     ]
    }
   ],
   "source": [
    "# List comprehensions\n",
    "\n",
    "fruit = ['banana', 'nectarine', 'passionfruit']\n",
    "\n",
    "# conventional loop\n",
    "newfruit = []\n",
    "for f in fruit:\n",
    "    newfruit.append(f.strip())\n",
    "print(newfruit)\n",
    "\n",
    "# in one line\n",
    "newfruit = [f.strip() for f in fruit]\n",
    "print(newfruit)"
   ]
  },
  {
   "cell_type": "code",
   "execution_count": null,
   "metadata": {},
   "outputs": [],
   "source": [
    "# Another example\n",
    "my_fav_num = [3,17,22,46,71,8]\n",
    "\n",
    "# Extract all even values and square\n",
    "even_squared = []\n",
    "for n in my_fav_num:\n",
    "    if n%2 == 0:\n",
    "        even_squared.append(n**2)\n",
    "print(even_squared)        \n",
    "        \n",
    "# in one line\n",
    "even_squared = [n**2 for n in my_fav_num if n%2 == 0]\n",
    "print(even_squared)"
   ]
  },
  {
   "cell_type": "code",
   "execution_count": null,
   "metadata": {},
   "outputs": [],
   "source": [
    "# Basic file I/O\n",
    "\"\"\"\n",
    "fname = 'myfile.dat'\n",
    "\n",
    "# read whole file in one go\n",
    "f = open(fname)\n",
    "lines = f.readlines()\n",
    "f.close()\n",
    "\n",
    "# read individual lines\n",
    "f = open(fname)\n",
    "firstline = f.readline()\n",
    "secondline = f.readline()\n",
    "\n",
    "f.seek(0) #go back to the start of the file without re-opening\n",
    "\n",
    "# iterate over lines in the file\n",
    "# l is a string, split() splits strings at whitespace\n",
    "for l in f:\n",
    "    print(l.split()[1]) # prints second column in space-separated data\n",
    "f.close()\n",
    "\n",
    "# write out to a file\n",
    "outfname = 'myoutput'\n",
    "outf = open(outfname, 'w') # second argument denotes writable\n",
    "outf.write('My very own file \\n') #\\n to denote end of line\n",
    "outf.close()\n",
    "\n",
    "# append to a file\n",
    "outf = open(outfname, 'a') # second argument denotes append\n",
    "outf.write('Another line\\n')\n",
    "outf.close()\n",
    "\n",
    "# better to use a 'context manager'\n",
    "with open(outfname, 'w') as outf:\n",
    "    outf.write('My very own file\\n') # automatically closes file\n",
    "\"\"\""
   ]
  },
  {
   "cell_type": "code",
   "execution_count": 4,
   "metadata": {},
   "outputs": [],
   "source": [
    "# Scope, functons, globals and classes\n",
    "\n",
    "# This is a global variable\n",
    "a = 0\n",
    "\n",
    "if a == 0:\n",
    "    b = 1  # another global variable\n",
    "    \n",
    "def my_function(c):\n",
    "    #this is a local variable\n",
    "    c=1\n",
    "    return c"
   ]
  },
  {
   "cell_type": "code",
   "execution_count": 6,
   "metadata": {},
   "outputs": [
    {
     "name": "stdout",
     "output_type": "stream",
     "text": [
      "14\n"
     ]
    }
   ],
   "source": [
    "# If I want to declare something a global variable, but best avoided\n",
    "def hacky_func(b):\n",
    "    global a\n",
    "    a = 2*b\n",
    "    return(a)\n",
    "\n",
    "a=0\n",
    "hacky_func(7)\n",
    "print(a)"
   ]
  },
  {
   "cell_type": "code",
   "execution_count": 19,
   "metadata": {},
   "outputs": [
    {
     "name": "stdout",
     "output_type": "stream",
     "text": [
      "4\n",
      "4\n",
      "9\n",
      "1\n",
      "3\n",
      "1\n",
      "1\n"
     ]
    }
   ],
   "source": [
    "# Classes\n",
    "\n",
    "class MyLineClass(object): # classes usually capitalised\n",
    "    def __init__(self, m, c=0.0): #contains code which is run on creation\n",
    "        self.m = m\n",
    "        self.c = c\n",
    "        \n",
    "    # a call method\n",
    "    def __call__(self, x):\n",
    "        return self.m * x + self.c\n",
    "    \n",
    "    def __str__(self, x):\n",
    "        return f'{self.m} * x + {self.c}'\n",
    "    \n",
    "    def calc(self, x):\n",
    "        return self.m * x + self.c\n",
    "    \n",
    "m = MyLineClass(2, 4)\n",
    "print(m.calc(0))\n",
    "print(m.c)\n",
    "m.c = 3\n",
    "print(m.calc(3))\n",
    "\n",
    "p = MyLineClass(5, 1)\n",
    "print(p.calc(0))\n",
    "print(m.calc(0))\n",
    "\n",
    "print(p(0))\n",
    "print(str(p(0)))"
   ]
  },
  {
   "cell_type": "code",
   "execution_count": 20,
   "metadata": {},
   "outputs": [
    {
     "data": {
      "text/plain": [
       "-1.0"
      ]
     },
     "execution_count": 20,
     "metadata": {},
     "output_type": "execute_result"
    }
   ],
   "source": [
    "# Modules\n",
    "\n",
    "# can import some things from a module\n",
    "from math import cos, pi\n",
    "cos(pi)"
   ]
  },
  {
   "cell_type": "code",
   "execution_count": null,
   "metadata": {},
   "outputs": [],
   "source": [
    "\"\"\"\n",
    "Can also collect files together in folders\n",
    "\n",
    "myphdmodule/\n",
    "    __init__.py             # contains code which is run on import,\n",
    "                            # flags to Python that this thing is a module!\n",
    "                            # Therefore required\n",
    "                            \n",
    "    backgroundreader.py     # sub-modules\n",
    "    datareducer.py\n",
    "    resultsinterpreter.py\n",
    "    thesiswriter/\n",
    "        introwriter.py      # sub-sub-module\n",
    "        bulkadder.py\n",
    "        concluder.py\n",
    "        \n",
    "Can import only one submodule etc.\n",
    "from myphdmodule import thesiswriter\n",
    "thesiswriter.concluder()\n",
    "\"\"\""
   ]
  },
  {
   "cell_type": "code",
   "execution_count": 25,
   "metadata": {},
   "outputs": [
    {
     "ename": "ValueError",
     "evalue": "invalid literal for int() with base 10: '-f'",
     "output_type": "error",
     "traceback": [
      "\u001b[1;31m---------------------------------------------------------------------------\u001b[0m",
      "\u001b[1;31mValueError\u001b[0m                                Traceback (most recent call last)",
      "\u001b[1;32m<ipython-input-25-0a6ba2fb7d56>\u001b[0m in \u001b[0;36m<module>\u001b[1;34m\u001b[0m\n\u001b[0;32m     10\u001b[0m \u001b[1;32mif\u001b[0m \u001b[0m__name__\u001b[0m \u001b[1;33m==\u001b[0m \u001b[1;34m\"__main__\"\u001b[0m\u001b[1;33m:\u001b[0m \u001b[1;31m# True only if module is run from command line\u001b[0m\u001b[1;33m\u001b[0m\u001b[1;33m\u001b[0m\u001b[0m\n\u001b[0;32m     11\u001b[0m     \u001b[1;32mif\u001b[0m \u001b[0mlen\u001b[0m\u001b[1;33m(\u001b[0m\u001b[0msys\u001b[0m\u001b[1;33m.\u001b[0m\u001b[0margv\u001b[0m\u001b[1;33m)\u001b[0m \u001b[1;33m>\u001b[0m \u001b[1;36m1\u001b[0m\u001b[1;33m:\u001b[0m\u001b[1;33m\u001b[0m\u001b[1;33m\u001b[0m\u001b[0m\n\u001b[1;32m---> 12\u001b[1;33m         \u001b[0mn\u001b[0m \u001b[1;33m=\u001b[0m \u001b[0mint\u001b[0m\u001b[1;33m(\u001b[0m\u001b[0msys\u001b[0m\u001b[1;33m.\u001b[0m\u001b[0margv\u001b[0m\u001b[1;33m[\u001b[0m\u001b[1;36m1\u001b[0m\u001b[1;33m]\u001b[0m\u001b[1;33m)\u001b[0m\u001b[1;33m\u001b[0m\u001b[1;33m\u001b[0m\u001b[0m\n\u001b[0m\u001b[0;32m     13\u001b[0m     \u001b[1;32melse\u001b[0m\u001b[1;33m:\u001b[0m\u001b[1;33m\u001b[0m\u001b[1;33m\u001b[0m\u001b[0m\n\u001b[0;32m     14\u001b[0m         \u001b[0mn\u001b[0m \u001b[1;33m=\u001b[0m \u001b[1;36m100\u001b[0m\u001b[1;33m\u001b[0m\u001b[1;33m\u001b[0m\u001b[0m\n",
      "\u001b[1;31mValueError\u001b[0m: invalid literal for int() with base 10: '-f'"
     ]
    }
   ],
   "source": [
    "# Executable scripts\n",
    "import sys\n",
    "\n",
    "def countsheep(n):\n",
    "    sheep = 0\n",
    "    for i in range(n):\n",
    "        sheep +=1\n",
    "    return sheep\n",
    "\n",
    "if __name__ == \"__main__\": # True only if module is run from command line\n",
    "    if len(sys.argv) > 1:\n",
    "        n = int(sys.argv[1])\n",
    "    else:\n",
    "        n = 100\n",
    "    s = countsheep(n)\n",
    "    print(s)"
   ]
  },
  {
   "cell_type": "code",
   "execution_count": 26,
   "metadata": {},
   "outputs": [
    {
     "ename": "ValueError",
     "evalue": "invalid literal for int() with base 10: '-f'",
     "output_type": "error",
     "traceback": [
      "\u001b[1;31m---------------------------------------------------------------------------\u001b[0m",
      "\u001b[1;31mValueError\u001b[0m                                Traceback (most recent call last)",
      "\u001b[1;32m<ipython-input-26-59e03b530b99>\u001b[0m in \u001b[0;36m<module>\u001b[1;34m\u001b[0m\n\u001b[0;32m     17\u001b[0m \u001b[1;33m\u001b[0m\u001b[0m\n\u001b[0;32m     18\u001b[0m \u001b[1;32mif\u001b[0m \u001b[0m__name__\u001b[0m \u001b[1;33m==\u001b[0m \u001b[1;34m\"__main__\"\u001b[0m\u001b[1;33m:\u001b[0m\u001b[1;33m\u001b[0m\u001b[1;33m\u001b[0m\u001b[0m\n\u001b[1;32m---> 19\u001b[1;33m     \u001b[0msys\u001b[0m\u001b[1;33m.\u001b[0m\u001b[0mexit\u001b[0m\u001b[1;33m(\u001b[0m\u001b[0mmain\u001b[0m\u001b[1;33m(\u001b[0m\u001b[1;33m)\u001b[0m\u001b[1;33m)\u001b[0m\u001b[1;33m\u001b[0m\u001b[1;33m\u001b[0m\u001b[0m\n\u001b[0m",
      "\u001b[1;32m<ipython-input-26-59e03b530b99>\u001b[0m in \u001b[0;36mmain\u001b[1;34m()\u001b[0m\n\u001b[0;32m     10\u001b[0m \u001b[1;32mdef\u001b[0m \u001b[0mmain\u001b[0m\u001b[1;33m(\u001b[0m\u001b[1;33m)\u001b[0m\u001b[1;33m:\u001b[0m\u001b[1;33m\u001b[0m\u001b[1;33m\u001b[0m\u001b[0m\n\u001b[0;32m     11\u001b[0m     \u001b[1;32mif\u001b[0m \u001b[0mlen\u001b[0m\u001b[1;33m(\u001b[0m\u001b[0msys\u001b[0m\u001b[1;33m.\u001b[0m\u001b[0margv\u001b[0m\u001b[1;33m)\u001b[0m \u001b[1;33m>\u001b[0m \u001b[1;36m1\u001b[0m\u001b[1;33m:\u001b[0m\u001b[1;33m\u001b[0m\u001b[1;33m\u001b[0m\u001b[0m\n\u001b[1;32m---> 12\u001b[1;33m         \u001b[0mn\u001b[0m \u001b[1;33m=\u001b[0m \u001b[0mint\u001b[0m\u001b[1;33m(\u001b[0m\u001b[0msys\u001b[0m\u001b[1;33m.\u001b[0m\u001b[0margv\u001b[0m\u001b[1;33m[\u001b[0m\u001b[1;36m1\u001b[0m\u001b[1;33m]\u001b[0m\u001b[1;33m)\u001b[0m\u001b[1;33m\u001b[0m\u001b[1;33m\u001b[0m\u001b[0m\n\u001b[0m\u001b[0;32m     13\u001b[0m     \u001b[1;32melse\u001b[0m\u001b[1;33m:\u001b[0m\u001b[1;33m\u001b[0m\u001b[1;33m\u001b[0m\u001b[0m\n\u001b[0;32m     14\u001b[0m         \u001b[0mn\u001b[0m\u001b[1;33m=\u001b[0m\u001b[1;36m100\u001b[0m\u001b[1;33m\u001b[0m\u001b[1;33m\u001b[0m\u001b[0m\n",
      "\u001b[1;31mValueError\u001b[0m: invalid literal for int() with base 10: '-f'"
     ]
    }
   ],
   "source": [
    "# Better version\n",
    "import sys\n",
    "\n",
    "def countsheep(n):\n",
    "    sheep = 0\n",
    "    for i in range(n):\n",
    "        sheep +=1\n",
    "    return sheep\n",
    "\n",
    "def main():\n",
    "    if len(sys.argv) > 1:\n",
    "        n = int(sys.argv[1])\n",
    "    else:\n",
    "        n=100\n",
    "    s = countsheep(n)\n",
    "    print(s)\n",
    "    \n",
    "if __name__ == \"__main__\":\n",
    "    sys.exit(main())"
   ]
  },
  {
   "cell_type": "code",
   "execution_count": 4,
   "metadata": {},
   "outputs": [],
   "source": [
    "# Documentation and examples\n",
    "\n",
    "# Showing docstrings (\"\"\" *fasdgjn \"\"\")\n",
    "\n",
    "# My good function\n",
    "def my_func(x, y=0.0, z=1.0):\n",
    "    \"\"\"This does some stuff\n",
    "\n",
    "    For example:\n",
    "    >>> my_func(1.0, 3.0, 2.0)\n",
    "    8.0\n",
    "\n",
    "    Yes, it really is that good!\n",
    "    \"\"\"\n",
    "    return (x + y) * z"
   ]
  },
  {
   "cell_type": "markdown",
   "metadata": {},
   "source": [
    "# Writing nice Python\n",
    "\n",
    "Some guidelines:\n",
    "\n",
    "# PEP8 https://www.python.org/dev/peps/pep-0008\n",
    "\n",
    " Tools to test/enforce compliance with PEP8 - search 'pep8', e.g.\n",
    " \n",
    " # https:/github.com/psf/black\n",
    " \n",
    " \n",
    "-Whitespace\n",
    "    -Around operators\n",
    "    -After commas "
   ]
  }
 ],
 "metadata": {
  "kernelspec": {
   "display_name": "Python 3",
   "language": "python",
   "name": "python3"
  },
  "language_info": {
   "codemirror_mode": {
    "name": "ipython",
    "version": 3
   },
   "file_extension": ".py",
   "mimetype": "text/x-python",
   "name": "python",
   "nbconvert_exporter": "python",
   "pygments_lexer": "ipython3",
   "version": "3.8.3"
  }
 },
 "nbformat": 4,
 "nbformat_minor": 4
}
